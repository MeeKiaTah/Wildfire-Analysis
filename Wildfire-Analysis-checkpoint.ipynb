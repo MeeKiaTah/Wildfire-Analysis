{
 "cells": [
  {
   "cell_type": "markdown",
   "id": "a38da7f3",
   "metadata": {},
   "source": [
    "# Part 1: Feature Prototype"
   ]
  },
  {
   "cell_type": "markdown",
   "id": "2a934603",
   "metadata": {},
   "source": [
    "This kernel is for recording down my project model building process, with a logistic regression base build, using LSTM techniques. I will be running through the coding process done, as well as displaying the visual representations, and results"
   ]
  },
  {
   "cell_type": "markdown",
   "id": "e15a346d",
   "metadata": {},
   "source": [
    "To start off, for my first block, I will be pip installing all the necessary libraries and tools that I have declared to be using for this project, that are required for handling the dataset(s) and training my logistic regression model"
   ]
  },
  {
   "cell_type": "code",
   "execution_count": 1,
   "id": "d8b70ba5",
   "metadata": {
    "scrolled": false
   },
   "outputs": [
    {
     "name": "stdout",
     "output_type": "stream",
     "text": [
      "Requirement already satisfied: pandas in c:\\users\\darre\\anaconda3\\lib\\site-packages (1.4.4)\n",
      "Requirement already satisfied: numpy in c:\\users\\darre\\anaconda3\\lib\\site-packages (1.24.3)\n",
      "Requirement already satisfied: scikit-learn in c:\\users\\darre\\anaconda3\\lib\\site-packages (1.0.2)\n",
      "Requirement already satisfied: matplotlib in c:\\users\\darre\\anaconda3\\lib\\site-packages (3.5.2)\n",
      "Requirement already satisfied: seaborn in c:\\users\\darre\\anaconda3\\lib\\site-packages (0.11.2)\n",
      "Requirement already satisfied: python-dateutil>=2.8.1 in c:\\users\\darre\\anaconda3\\lib\\site-packages (from pandas) (2.8.2)\n",
      "Requirement already satisfied: pytz>=2020.1 in c:\\users\\darre\\anaconda3\\lib\\site-packages (from pandas) (2024.1)\n",
      "Requirement already satisfied: scipy>=1.1.0 in c:\\users\\darre\\anaconda3\\lib\\site-packages (from scikit-learn) (1.9.1)\n",
      "Requirement already satisfied: joblib>=0.11 in c:\\users\\darre\\anaconda3\\lib\\site-packages (from scikit-learn) (1.4.0)\n",
      "Requirement already satisfied: threadpoolctl>=2.0.0 in c:\\users\\darre\\anaconda3\\lib\\site-packages (from scikit-learn) (2.2.0)\n",
      "Requirement already satisfied: cycler>=0.10 in c:\\users\\darre\\anaconda3\\lib\\site-packages (from matplotlib) (0.11.0)\n",
      "Requirement already satisfied: fonttools>=4.22.0 in c:\\users\\darre\\anaconda3\\lib\\site-packages (from matplotlib) (4.51.0)\n",
      "Requirement already satisfied: kiwisolver>=1.0.1 in c:\\users\\darre\\anaconda3\\lib\\site-packages (from matplotlib) (1.4.4)\n",
      "Requirement already satisfied: packaging>=20.0 in c:\\users\\darre\\anaconda3\\lib\\site-packages (from matplotlib) (23.2)\n",
      "Requirement already satisfied: pillow>=6.2.0 in c:\\users\\darre\\anaconda3\\lib\\site-packages (from matplotlib) (10.3.0)\n",
      "Requirement already satisfied: pyparsing>=2.2.1 in c:\\users\\darre\\anaconda3\\lib\\site-packages (from matplotlib) (3.0.9)\n",
      "Requirement already satisfied: six>=1.5 in c:\\users\\darre\\anaconda3\\lib\\site-packages (from python-dateutil>=2.8.1->pandas) (1.16.0)\n"
     ]
    },
    {
     "name": "stderr",
     "output_type": "stream",
     "text": [
      "WARNING: Ignoring invalid distribution -pencv-python-headless (c:\\users\\darre\\anaconda3\\lib\\site-packages)\n",
      "WARNING: Ignoring invalid distribution -pencv-python-headless (c:\\users\\darre\\anaconda3\\lib\\site-packages)\n"
     ]
    }
   ],
   "source": [
    "#pip installing all the required libraries and tools\n",
    "!pip install pandas numpy scikit-learn matplotlib seaborn"
   ]
  },
  {
   "cell_type": "markdown",
   "id": "5e8af103",
   "metadata": {},
   "source": [
    "Next, i shall be importing over all the installed libraries and tools, along with other extra tools that are already provided in the Jupyter environment.\n",
    "\n",
    "Namely, this will be pandas, numpy, sklearn, matplotlib, and seaborn.\n",
    "\n",
    "These libraries are imported to handle data manipulation, model building, and evaluation"
   ]
  },
  {
   "cell_type": "code",
   "execution_count": 2,
   "id": "ef85acb7",
   "metadata": {},
   "outputs": [],
   "source": [
    "#importing all the necessary libraries and tools\n",
    "import pandas as pd\n",
    "import numpy as np\n",
    "from sklearn.model_selection import train_test_split\n",
    "from sklearn.linear_model import LogisticRegression\n",
    "from sklearn.metrics import accuracy_score, precision_score, recall_score, f1_score, roc_auc_score, confusion_matrix\n",
    "from sklearn.preprocessing import StandardScaler\n",
    "import matplotlib.pyplot as plt\n",
    "import seaborn as sns"
   ]
  },
  {
   "cell_type": "markdown",
   "id": "19fef601",
   "metadata": {},
   "source": [
    "After settling the basic installation and importing, next up I will be moving onto the dataset. For initial training's sake, I will be using a sample wildfire dataset from a folder from Kaggle which I have sourced, that looks into the cumulative areas burnt by wildfires per week over the last 12 years.\n",
    "\n",
    "Using simple panda read to read the csv file from the local path, and then head() to display the first few rows from the dataset to ensure the data is correct and it matches"
   ]
  },
  {
   "cell_type": "code",
   "execution_count": 3,
   "id": "e8c5afcd",
   "metadata": {},
   "outputs": [],
   "source": [
    "#loading and preprocessing the initial dataset\n",
    "file_path = r'C:\\Users\\Darre\\schoolstuff\\fp tings\\datasets\\1- cumulative-area-burnt-by-wildfires-by-week.csv'\n",
    "data = pd.read_csv(file_path)"
   ]
  },
  {
   "cell_type": "code",
   "execution_count": 4,
   "id": "9cae3e2f",
   "metadata": {},
   "outputs": [
    {
     "data": {
      "text/html": [
       "<div>\n",
       "<style scoped>\n",
       "    .dataframe tbody tr th:only-of-type {\n",
       "        vertical-align: middle;\n",
       "    }\n",
       "\n",
       "    .dataframe tbody tr th {\n",
       "        vertical-align: top;\n",
       "    }\n",
       "\n",
       "    .dataframe thead th {\n",
       "        text-align: right;\n",
       "    }\n",
       "</style>\n",
       "<table border=\"1\" class=\"dataframe\">\n",
       "  <thead>\n",
       "    <tr style=\"text-align: right;\">\n",
       "      <th></th>\n",
       "      <th>Entity</th>\n",
       "      <th>Code</th>\n",
       "      <th>Year</th>\n",
       "      <th>Cumulative area burnt by wildfires in 2024</th>\n",
       "      <th>Cumulative area burnt by wildfires in 2023</th>\n",
       "      <th>Cumulative area burnt by wildfires in 2022</th>\n",
       "      <th>Cumulative area burnt by wildfires in 2021</th>\n",
       "      <th>Cumulative area burnt by wildfires in 2020</th>\n",
       "      <th>Cumulative area burnt by wildfires in 2019</th>\n",
       "      <th>Cumulative area burnt by wildfires in 2018</th>\n",
       "      <th>Cumulative area burnt by wildfires in 2017</th>\n",
       "      <th>Cumulative area burnt by wildfires in 2016</th>\n",
       "      <th>Cumulative area burnt by wildfires in 2015</th>\n",
       "      <th>Cumulative area burnt by wildfires in 2014</th>\n",
       "      <th>Cumulative area burnt by wildfires in 2013</th>\n",
       "      <th>Cumulative area burnt by wildfires in 2012</th>\n",
       "    </tr>\n",
       "  </thead>\n",
       "  <tbody>\n",
       "    <tr>\n",
       "      <th>0</th>\n",
       "      <td>Afghanistan</td>\n",
       "      <td>AFG</td>\n",
       "      <td>1</td>\n",
       "      <td>391.0</td>\n",
       "      <td>0</td>\n",
       "      <td>0</td>\n",
       "      <td>1246</td>\n",
       "      <td>0</td>\n",
       "      <td>0</td>\n",
       "      <td>117</td>\n",
       "      <td>0</td>\n",
       "      <td>0</td>\n",
       "      <td>368</td>\n",
       "      <td>0</td>\n",
       "      <td>0</td>\n",
       "      <td>0</td>\n",
       "    </tr>\n",
       "    <tr>\n",
       "      <th>1</th>\n",
       "      <td>Afghanistan</td>\n",
       "      <td>AFG</td>\n",
       "      <td>2</td>\n",
       "      <td>559.0</td>\n",
       "      <td>0</td>\n",
       "      <td>0</td>\n",
       "      <td>2680</td>\n",
       "      <td>963</td>\n",
       "      <td>20</td>\n",
       "      <td>117</td>\n",
       "      <td>82</td>\n",
       "      <td>0</td>\n",
       "      <td>425</td>\n",
       "      <td>426</td>\n",
       "      <td>0</td>\n",
       "      <td>0</td>\n",
       "    </tr>\n",
       "    <tr>\n",
       "      <th>2</th>\n",
       "      <td>Afghanistan</td>\n",
       "      <td>AFG</td>\n",
       "      <td>3</td>\n",
       "      <td>841.0</td>\n",
       "      <td>0</td>\n",
       "      <td>0</td>\n",
       "      <td>3539</td>\n",
       "      <td>1181</td>\n",
       "      <td>20</td>\n",
       "      <td>264</td>\n",
       "      <td>129</td>\n",
       "      <td>390</td>\n",
       "      <td>425</td>\n",
       "      <td>426</td>\n",
       "      <td>54</td>\n",
       "      <td>0</td>\n",
       "    </tr>\n",
       "    <tr>\n",
       "      <th>3</th>\n",
       "      <td>Afghanistan</td>\n",
       "      <td>AFG</td>\n",
       "      <td>4</td>\n",
       "      <td>841.0</td>\n",
       "      <td>0</td>\n",
       "      <td>0</td>\n",
       "      <td>3719</td>\n",
       "      <td>2030</td>\n",
       "      <td>20</td>\n",
       "      <td>411</td>\n",
       "      <td>129</td>\n",
       "      <td>390</td>\n",
       "      <td>425</td>\n",
       "      <td>426</td>\n",
       "      <td>362</td>\n",
       "      <td>368</td>\n",
       "    </tr>\n",
       "    <tr>\n",
       "      <th>4</th>\n",
       "      <td>Afghanistan</td>\n",
       "      <td>AFG</td>\n",
       "      <td>5</td>\n",
       "      <td>841.0</td>\n",
       "      <td>0</td>\n",
       "      <td>215</td>\n",
       "      <td>4131</td>\n",
       "      <td>3351</td>\n",
       "      <td>20</td>\n",
       "      <td>411</td>\n",
       "      <td>129</td>\n",
       "      <td>1043</td>\n",
       "      <td>425</td>\n",
       "      <td>426</td>\n",
       "      <td>379</td>\n",
       "      <td>597</td>\n",
       "    </tr>\n",
       "  </tbody>\n",
       "</table>\n",
       "</div>"
      ],
      "text/plain": [
       "        Entity Code  Year  Cumulative area burnt by wildfires in 2024  \\\n",
       "0  Afghanistan  AFG     1                                       391.0   \n",
       "1  Afghanistan  AFG     2                                       559.0   \n",
       "2  Afghanistan  AFG     3                                       841.0   \n",
       "3  Afghanistan  AFG     4                                       841.0   \n",
       "4  Afghanistan  AFG     5                                       841.0   \n",
       "\n",
       "   Cumulative area burnt by wildfires in 2023  \\\n",
       "0                                           0   \n",
       "1                                           0   \n",
       "2                                           0   \n",
       "3                                           0   \n",
       "4                                           0   \n",
       "\n",
       "   Cumulative area burnt by wildfires in 2022  \\\n",
       "0                                           0   \n",
       "1                                           0   \n",
       "2                                           0   \n",
       "3                                           0   \n",
       "4                                         215   \n",
       "\n",
       "   Cumulative area burnt by wildfires in 2021  \\\n",
       "0                                        1246   \n",
       "1                                        2680   \n",
       "2                                        3539   \n",
       "3                                        3719   \n",
       "4                                        4131   \n",
       "\n",
       "   Cumulative area burnt by wildfires in 2020  \\\n",
       "0                                           0   \n",
       "1                                         963   \n",
       "2                                        1181   \n",
       "3                                        2030   \n",
       "4                                        3351   \n",
       "\n",
       "   Cumulative area burnt by wildfires in 2019  \\\n",
       "0                                           0   \n",
       "1                                          20   \n",
       "2                                          20   \n",
       "3                                          20   \n",
       "4                                          20   \n",
       "\n",
       "   Cumulative area burnt by wildfires in 2018  \\\n",
       "0                                         117   \n",
       "1                                         117   \n",
       "2                                         264   \n",
       "3                                         411   \n",
       "4                                         411   \n",
       "\n",
       "   Cumulative area burnt by wildfires in 2017  \\\n",
       "0                                           0   \n",
       "1                                          82   \n",
       "2                                         129   \n",
       "3                                         129   \n",
       "4                                         129   \n",
       "\n",
       "   Cumulative area burnt by wildfires in 2016  \\\n",
       "0                                           0   \n",
       "1                                           0   \n",
       "2                                         390   \n",
       "3                                         390   \n",
       "4                                        1043   \n",
       "\n",
       "   Cumulative area burnt by wildfires in 2015  \\\n",
       "0                                         368   \n",
       "1                                         425   \n",
       "2                                         425   \n",
       "3                                         425   \n",
       "4                                         425   \n",
       "\n",
       "   Cumulative area burnt by wildfires in 2014  \\\n",
       "0                                           0   \n",
       "1                                         426   \n",
       "2                                         426   \n",
       "3                                         426   \n",
       "4                                         426   \n",
       "\n",
       "   Cumulative area burnt by wildfires in 2013  \\\n",
       "0                                           0   \n",
       "1                                           0   \n",
       "2                                          54   \n",
       "3                                         362   \n",
       "4                                         379   \n",
       "\n",
       "   Cumulative area burnt by wildfires in 2012  \n",
       "0                                           0  \n",
       "1                                           0  \n",
       "2                                           0  \n",
       "3                                         368  \n",
       "4                                         597  "
      ]
     },
     "execution_count": 4,
     "metadata": {},
     "output_type": "execute_result"
    }
   ],
   "source": [
    "#displaying the first few rows of the dataset to verify the content\n",
    "data.head()"
   ]
  },
  {
   "cell_type": "markdown",
   "id": "4468fbef",
   "metadata": {},
   "source": [
    "Next, I will be renaming the longer column names to shortened version, for example \"cumulative area burnt by wildfires in 2024\", to \"burnt_2024\" instead. This helps to simplify it and makes it easier for my model to read and understand. I will also be doing some \"data cleaning\" by deleting empty rows that contain no values.\n",
    "\n",
    "Main features and variables that I am more interested in from the dataset, namely being the past 12 years, will be highlighted too, whilst for the current year (2024)'s I will be creating a binary target to indicate whether the burnt area exceeds a specified threshold. I will also be splitting the dataset into \"features\" and \"target\", namely X and Y, to prepare for model training and evaluation\n",
    "\n",
    "Finally, I will be using head() again for both X and Y to display the first few rows and ensure that the new changes are in place and that the dataset has successfully gone through the modifications without any issues"
   ]
  },
  {
   "cell_type": "code",
   "execution_count": 5,
   "id": "4e55df7e",
   "metadata": {},
   "outputs": [],
   "source": [
    "#renaming columns for simplicity\n",
    "data.columns = [\n",
    "    'Entity', 'Code', 'Year',\n",
    "    'Burnt_2024', 'Burnt_2023', 'Burnt_2022', 'Burnt_2021',\n",
    "    'Burnt_2020', 'Burnt_2019', 'Burnt_2018', 'Burnt_2017',\n",
    "    'Burnt_2016', 'Burnt_2015', 'Burnt_2014', 'Burnt_2013', 'Burnt_2012'\n",
    "]"
   ]
  },
  {
   "cell_type": "code",
   "execution_count": 6,
   "id": "5e0a5099",
   "metadata": {},
   "outputs": [],
   "source": [
    "#cleaning the data by removing rows with missing values\n",
    "data.dropna(inplace=True)"
   ]
  },
  {
   "cell_type": "code",
   "execution_count": 7,
   "id": "3e087efc",
   "metadata": {},
   "outputs": [],
   "source": [
    "#defining main features and target variable\n",
    "features = [\n",
    "    'Burnt_2023', 'Burnt_2022', 'Burnt_2021', 'Burnt_2020',\n",
    "    'Burnt_2019', 'Burnt_2018', 'Burnt_2017', 'Burnt_2016',\n",
    "    'Burnt_2015', 'Burnt_2014', 'Burnt_2013', 'Burnt_2012'\n",
    "]\n",
    "threshold = 1000\n",
    "data['Target'] = data['Burnt_2024'].apply(lambda x: 1 if x > threshold else 0)"
   ]
  },
  {
   "cell_type": "code",
   "execution_count": 8,
   "id": "54e26ece",
   "metadata": {},
   "outputs": [],
   "source": [
    "#splitting the data into features (X) and target (y)\n",
    "X = data[features]\n",
    "y = data['Target']"
   ]
  },
  {
   "cell_type": "code",
   "execution_count": 9,
   "id": "abf39652",
   "metadata": {
    "scrolled": false
   },
   "outputs": [
    {
     "data": {
      "text/plain": [
       "(   Burnt_2023  Burnt_2022  Burnt_2021  Burnt_2020  Burnt_2019  Burnt_2018  \\\n",
       " 0           0           0        1246           0           0         117   \n",
       " 1           0           0        2680         963          20         117   \n",
       " 2           0           0        3539        1181          20         264   \n",
       " 3           0           0        3719        2030          20         411   \n",
       " 4           0         215        4131        3351          20         411   \n",
       " \n",
       "    Burnt_2017  Burnt_2016  Burnt_2015  Burnt_2014  Burnt_2013  Burnt_2012  \n",
       " 0           0           0         368           0           0           0  \n",
       " 1          82           0         425         426           0           0  \n",
       " 2         129         390         425         426          54           0  \n",
       " 3         129         390         425         426         362         368  \n",
       " 4         129        1043         425         426         379         597  ,\n",
       " 0    0\n",
       " 1    0\n",
       " 2    0\n",
       " 3    0\n",
       " 4    0\n",
       " Name: Target, dtype: int64)"
      ]
     },
     "execution_count": 9,
     "metadata": {},
     "output_type": "execute_result"
    }
   ],
   "source": [
    "#displaying the first few rows of features and target to verify the changes\n",
    "X.head(), y.head()"
   ]
  },
  {
   "cell_type": "markdown",
   "id": "567abad0",
   "metadata": {},
   "source": [
    "Next, I am going to split the X and Y (features and targets), into training and testing sets, to begin preparing for evaluation using the metrices. I will be scaling the data for features firstly (using \"StandardScaler\", so as to prevent the model from being biased towards features with larger numerical ranges and ensure that the model converges more efficiently. I will then verify that the split is successful by printing out the training and testing set sizes, where the results should show a larger training set than testing set. "
   ]
  },
  {
   "cell_type": "code",
   "execution_count": 10,
   "id": "c6d2f0c9",
   "metadata": {},
   "outputs": [],
   "source": [
    "#splitting the data into training and testing sets\n",
    "X_train, X_test, y_train, y_test = train_test_split(X, y, test_size=0.2, random_state=42)"
   ]
  },
  {
   "cell_type": "code",
   "execution_count": 11,
   "id": "7009491d",
   "metadata": {},
   "outputs": [],
   "source": [
    "#scaling the data\n",
    "scaler = StandardScaler()\n",
    "X_train_scaled = scaler.fit_transform(X_train)\n",
    "X_test_scaled = scaler.transform(X_test)"
   ]
  },
  {
   "cell_type": "code",
   "execution_count": 12,
   "id": "4b8f2341",
   "metadata": {},
   "outputs": [
    {
     "name": "stdout",
     "output_type": "stream",
     "text": [
      "Training set size: 3024\n",
      "Testing set size: 756\n"
     ]
    }
   ],
   "source": [
    "#verifying the split by printing the respective set sizes\n",
    "print(f'Training set size: {X_train.shape[0]}')\n",
    "print(f'Testing set size: {X_test.shape[0]}')"
   ]
  },
  {
   "cell_type": "markdown",
   "id": "bf66e82d",
   "metadata": {},
   "source": [
    "Next, I am going to start on the main model for my project, which would be the logistic regression model. I will be increasing its max iteration (\"max_iter\") so that the model has sufficient iterations to converge properly. This is important as the default number of iterations may not be enough for the model to fully converge, if dealing with larger datasets.\n",
    "\n",
    "Then afterwards, being training my model using the previously cleaned and scaled data"
   ]
  },
  {
   "cell_type": "code",
   "execution_count": 13,
   "id": "ff4de96f",
   "metadata": {},
   "outputs": [
    {
     "data": {
      "text/plain": [
       "LogisticRegression(max_iter=1000)"
      ]
     },
     "execution_count": 13,
     "metadata": {},
     "output_type": "execute_result"
    }
   ],
   "source": [
    "#initializing and training the logistic regression model with increased max iterations\n",
    "log_reg = LogisticRegression(max_iter=1000)\n",
    "log_reg.fit(X_train_scaled, y_train)"
   ]
  },
  {
   "cell_type": "markdown",
   "id": "d7f5b71d",
   "metadata": {},
   "source": [
    "Next, using my X (features) test data, i will be making predictions and probabilities off my Y (targets) using my logistic regression model. I will be evaluating my model to see how its performance is now, using the metrices I have declared previously, namely being; accuracy, precision, recall, f1 score, ROC AUC score, and the confusion matrix. Confusion matrix and ROC AUC score is used to plot the graphs in the later kernel. The results will be printed out for self analysis to check the performance, and to plan out possible improvements for the model that can be done in the future."
   ]
  },
  {
   "cell_type": "code",
   "execution_count": 14,
   "id": "5349aaa6",
   "metadata": {},
   "outputs": [
    {
     "name": "stderr",
     "output_type": "stream",
     "text": [
      "C:\\Users\\Darre\\anaconda3\\lib\\site-packages\\sklearn\\base.py:443: UserWarning: X has feature names, but LogisticRegression was fitted without feature names\n",
      "  warnings.warn(\n",
      "C:\\Users\\Darre\\anaconda3\\lib\\site-packages\\sklearn\\base.py:443: UserWarning: X has feature names, but LogisticRegression was fitted without feature names\n",
      "  warnings.warn(\n"
     ]
    }
   ],
   "source": [
    "#making predictions using the trained model\n",
    "y_pred = log_reg.predict(X_test)\n",
    "y_prob = log_reg.predict_proba(X_test)[:, 1]"
   ]
  },
  {
   "cell_type": "code",
   "execution_count": 15,
   "id": "ad8d8018",
   "metadata": {},
   "outputs": [],
   "source": [
    "#evaluating the model performance\n",
    "accuracy = accuracy_score(y_test, y_pred)\n",
    "precision = precision_score(y_test, y_pred)\n",
    "recall = recall_score(y_test, y_pred)\n",
    "f1 = f1_score(y_test, y_pred)\n",
    "roc_auc = roc_auc_score(y_test, y_prob)\n",
    "conf_matrix = confusion_matrix(y_test, y_pred)"
   ]
  },
  {
   "cell_type": "code",
   "execution_count": 16,
   "id": "535e0ee6",
   "metadata": {},
   "outputs": [
    {
     "name": "stdout",
     "output_type": "stream",
     "text": [
      "Accuracy: 0.40\n",
      "Precision: 0.40\n",
      "Recall: 1.00\n",
      "F1 Score: 0.58\n",
      "ROC AUC Score: 0.77\n",
      "Confusion Matrix:\n",
      "[[  0 450]\n",
      " [  0 306]]\n"
     ]
    }
   ],
   "source": [
    "#display the performance metrics\n",
    "print(f'Accuracy: {accuracy:.2f}')\n",
    "print(f'Precision: {precision:.2f}')\n",
    "print(f'Recall: {recall:.2f}')\n",
    "print(f'F1 Score: {f1:.2f}')\n",
    "print(f'ROC AUC Score: {roc_auc:.2f}')\n",
    "print('Confusion Matrix:')\n",
    "print(conf_matrix)"
   ]
  },
  {
   "cell_type": "markdown",
   "id": "75b0ec6a",
   "metadata": {},
   "source": [
    "Finally, using the confusion matrix and the ROC AUC score, I shall begin plotting out the graphs/models, using matplotlib as \"plt\" to pan out the necessary items, namely being the title, labels and legends (if required).\n",
    "\n",
    "For the confusion matrix, I will be naming the x and y labels as the \"predicted\" and the \"real/true\" which will have the predicted results go against the actual results, helping in visualizing the model's performance in terms of correctly and incorrectly classified instances\n",
    "\n",
    "For the ROC AUC graph, I will be naming the x and y labels as \"false positive\" and \"true positive\" which will have the false results go against the true ones, providing an \"area under the curve\" (AUC). AUC represents the degree of seperability, with a higher AUC indiciating a better performing model that can distinguish between positive and negative classes effectively."
   ]
  },
  {
   "cell_type": "code",
   "execution_count": 17,
   "id": "dd8a59b0",
   "metadata": {
    "scrolled": true
   },
   "outputs": [
    {
     "data": {
      "image/png": "[encoded data removed]",
      "text/plain": [
       "<Figure size 800x600 with 2 Axes>"
      ]
     },
     "metadata": {},
     "output_type": "display_data"
    }
   ],
   "source": [
    "#plotting the confusion matrix\n",
    "plt.figure(figsize=(8, 6))\n",
    "sns.heatmap(conf_matrix, annot=True, fmt='d', cmap='Blues')\n",
    "plt.title('Confusion Matrix')\n",
    "plt.xlabel('Predicted Label')\n",
    "plt.ylabel('True Label')\n",
    "plt.show()"
   ]
  },
  {
   "cell_type": "code",
   "execution_count": 18,
   "id": "722c0d84",
   "metadata": {
    "scrolled": true
   },
   "outputs": [
    {
     "data": {
      "image/png": "[encoded data removed]",
      "text/plain": [
       "<Figure size 800x600 with 1 Axes>"
      ]
     },
     "metadata": {},
     "output_type": "display_data"
    }
   ],
   "source": [
    "#plotting the ROC Curve\n",
    "from sklearn.metrics import roc_curve\n",
    "\n",
    "fpr, tpr, _ = roc_curve(y_test, y_prob)\n",
    "plt.figure(figsize=(8, 6))\n",
    "plt.plot(fpr, tpr, label=f'ROC Curve (area = {roc_auc:.2f})')\n",
    "plt.plot([0, 1], [0, 1], 'k--')\n",
    "plt.xlabel('False Positive Rate')\n",
    "plt.ylabel('True Positive Rate')\n",
    "plt.title('ROC Curve')\n",
    "plt.legend(loc='lower right')\n",
    "plt.show()"
   ]
  },
  {
   "cell_type": "code",
   "execution_count": 19,
   "id": "1d3045a6",
   "metadata": {},
   "outputs": [
    {
     "name": "stdout",
     "output_type": "stream",
     "text": [
      "Summary of Initial Results:\n",
      "Accuracy: 0.40\n",
      "Precision: 0.40\n",
      "Recall: 1.00\n",
      "F1 Score: 0.58\n",
      "ROC AUC Score: 0.77\n",
      "Confusion Matrix: \n",
      "[[  0 450]\n",
      " [  0 306]]\n"
     ]
    }
   ],
   "source": [
    "#summary of initial results\n",
    "print(\"Summary of Initial Results:\")\n",
    "print(f\"Accuracy: {accuracy:.2f}\")\n",
    "print(f\"Precision: {precision:.2f}\")\n",
    "print(f\"Recall: {recall:.2f}\")\n",
    "print(f\"F1 Score: {f1:.2f}\")\n",
    "print(f\"ROC AUC Score: {roc_auc:.2f}\")\n",
    "print(f\"Confusion Matrix: \\n{conf_matrix}\")"
   ]
  },
  {
   "cell_type": "markdown",
   "id": "37e867b9",
   "metadata": {},
   "source": [
    "Overall, I can say that my model has successfully read and analyzed a wildfire dataset, as a key feature requirement for my feature prototype, and plotted out a ROC curve at the end to know that my model has successfully completed its first round of dataset training. The accuracy and precision, whilst only being 0.40, has room for improvement, which I aim to work on, to enhance its preditictive capabilties"
   ]
  },
  {
   "cell_type": "markdown",
   "id": "0671766b",
   "metadata": {},
   "source": [
    "# Part 2: LSTM techniques implementing"
   ]
  },
  {
   "cell_type": "markdown",
   "id": "dc64fd6d",
   "metadata": {},
   "source": [
    "Now, after finishing up with my base logistic regression model, I shall begin the implementation to begin adding in LSTM techniques into my logistic regression model.\n",
    "\n",
    "The following adjustments/steps shall be made to my model:\n",
    "\n",
    "- Importing necessary libraries: I will import additional libraries for building and training the LSTM\n",
    "- Preprocessing data for LSTM: The data needs to be reshaped to fit the LSTM input requirements\n",
    "- Building and training the LSTM Model: Training the LSTM model on the preprocessed data\n",
    "- Evaluate the LSTM Model: Evaluate the performance of the LSTM model using the same metrics."
   ]
  },
  {
   "cell_type": "markdown",
   "id": "02efa506",
   "metadata": {},
   "source": [
    "Firstly, I will be importing the keras library to access the LSTM techniques, and also SMOTE to help balance the dataset"
   ]
  },
  {
   "cell_type": "code",
   "execution_count": 20,
   "id": "1a50e1f2",
   "metadata": {},
   "outputs": [
    {
     "name": "stdout",
     "output_type": "stream",
     "text": [
      "WARNING:tensorflow:From C:\\Users\\Darre\\anaconda3\\lib\\site-packages\\keras\\src\\losses.py:2976: The name tf.losses.sparse_softmax_cross_entropy is deprecated. Please use tf.compat.v1.losses.sparse_softmax_cross_entropy instead.\n",
      "\n"
     ]
    }
   ],
   "source": [
    "#importing more necessary libraries for adjustments\n",
    "from keras.models import Sequential\n",
    "from keras.layers import LSTM, Dense, Dropout\n",
    "from keras.preprocessing.sequence import TimeseriesGenerator\n",
    "from imblearn.over_sampling import SMOTE"
   ]
  },
  {
   "cell_type": "markdown",
   "id": "0d1dbfc0",
   "metadata": {},
   "source": [
    "Now, for simplicity sake, I shall define a function for loading and pre-processing the dataset, similar to what i have done previously for the feature prototype, defining the colums, dropping empty values, and identifying key features"
   ]
  },
  {
   "cell_type": "code",
   "execution_count": 21,
   "id": "5b2b99b9",
   "metadata": {},
   "outputs": [],
   "source": [
    "#function to load and preprocess data\n",
    "def load_and_preprocess_lstm(file_path):\n",
    "    data = pd.read_csv(file_path)\n",
    "    data.columns = [\n",
    "        'Entity', 'Code', 'Year',\n",
    "        'Burnt_2024', 'Burnt_2023', 'Burnt_2022', 'Burnt_2021',\n",
    "        'Burnt_2020', 'Burnt_2019', 'Burnt_2018', 'Burnt_2017',\n",
    "        'Burnt_2016', 'Burnt_2015', 'Burnt_2014', 'Burnt_2013', 'Burnt_2012'\n",
    "    ]\n",
    "    data.dropna(inplace=True)\n",
    "    threshold = 1000 \n",
    "    data['Target'] = data['Burnt_2024'].apply(lambda x: 1 if x > threshold else 0)\n",
    "    features = [\n",
    "        'Burnt_2023', 'Burnt_2022', 'Burnt_2021', 'Burnt_2020',\n",
    "        'Burnt_2019', 'Burnt_2018', 'Burnt_2017', 'Burnt_2016',\n",
    "        'Burnt_2015', 'Burnt_2014', 'Burnt_2013', 'Burnt_2012'\n",
    "    ]\n",
    "    X = data[features].values\n",
    "    y = data['Target'].values\n",
    "    return X, y"
   ]
  },
  {
   "cell_type": "code",
   "execution_count": 22,
   "id": "24b848bb",
   "metadata": {},
   "outputs": [],
   "source": [
    "#loading and re-preprocessing the same dataset to ensure fair results\n",
    "file_path = r'C:\\Users\\Darre\\schoolstuff\\fp tings\\datasets\\1- cumulative-area-burnt-by-wildfires-by-week.csv'\n",
    "X, y = load_and_preprocess_lstm(file_path)"
   ]
  },
  {
   "cell_type": "markdown",
   "id": "9a7b2961",
   "metadata": {},
   "source": [
    "Next, I shall use SMOTE to first balance the dataset, before conducting splitting into training and testing sets, and reshaping the data sets for the LSTM model"
   ]
  },
  {
   "cell_type": "code",
   "execution_count": 23,
   "id": "30fe5b2a",
   "metadata": {},
   "outputs": [],
   "source": [
    "#balancing the dataset now, using SMOTE\n",
    "smote = SMOTE(random_state=42)\n",
    "X_res, y_res = smote.fit_resample(X, y)"
   ]
  },
  {
   "cell_type": "code",
   "execution_count": 24,
   "id": "0fae50b9",
   "metadata": {},
   "outputs": [],
   "source": [
    "#splitting the data into training and testing sets\n",
    "X_train, X_test, y_train, y_test = train_test_split(X_res, y_res, test_size=0.2, random_state=42)"
   ]
  },
  {
   "cell_type": "code",
   "execution_count": 25,
   "id": "a07a34e9",
   "metadata": {},
   "outputs": [],
   "source": [
    "#reshaping the data for LSTM input\n",
    "X_train = X_train.reshape((X_train.shape[0], X_train.shape[1], 1))\n",
    "X_test = X_test.reshape((X_test.shape[0], X_test.shape[1], 1))"
   ]
  },
  {
   "cell_type": "markdown",
   "id": "d2b13d9f",
   "metadata": {},
   "source": [
    "With all the data handling and processing done and ready, next is to focus on building the LSTM model, compiling, and training it with the data for it to be all set-up. The model is set as sequential, which is a linear stack of layers."
   ]
  },
  {
   "cell_type": "code",
   "execution_count": 26,
   "id": "b4b5ef78",
   "metadata": {},
   "outputs": [
    {
     "name": "stdout",
     "output_type": "stream",
     "text": [
      "WARNING:tensorflow:From C:\\Users\\Darre\\anaconda3\\lib\\site-packages\\keras\\src\\backend.py:873: The name tf.get_default_graph is deprecated. Please use tf.compat.v1.get_default_graph instead.\n",
      "\n"
     ]
    }
   ],
   "source": [
    "#building the LSTM model\n",
    "model = Sequential()\n",
    "model.add(LSTM(50, activation='relu', input_shape=(X_train.shape[1], 1), return_sequences=False))\n",
    "model.add(Dropout(0.2))\n",
    "model.add(Dense(1, activation='sigmoid'))"
   ]
  },
  {
   "cell_type": "code",
   "execution_count": 27,
   "id": "01353ec7",
   "metadata": {
    "scrolled": true
   },
   "outputs": [
    {
     "name": "stdout",
     "output_type": "stream",
     "text": [
      "WARNING:tensorflow:From C:\\Users\\Darre\\anaconda3\\lib\\site-packages\\keras\\src\\optimizers\\__init__.py:309: The name tf.train.Optimizer is deprecated. Please use tf.compat.v1.train.Optimizer instead.\n",
      "\n"
     ]
    }
   ],
   "source": [
    "#compiling the model\n",
    "model.compile(optimizer='adam', loss='binary_crossentropy', metrics=['accuracy'])"
   ]
  },
  {
   "cell_type": "code",
   "execution_count": 28,
   "id": "be5f4c10",
   "metadata": {
    "scrolled": true
   },
   "outputs": [
    {
     "name": "stdout",
     "output_type": "stream",
     "text": [
      "Epoch 1/50\n",
      "WARNING:tensorflow:From C:\\Users\\Darre\\anaconda3\\lib\\site-packages\\keras\\src\\utils\\tf_utils.py:492: The name tf.ragged.RaggedTensorValue is deprecated. Please use tf.compat.v1.ragged.RaggedTensorValue instead.\n",
      "\n",
      "WARNING:tensorflow:From C:\\Users\\Darre\\anaconda3\\lib\\site-packages\\keras\\src\\engine\\base_layer_utils.py:384: The name tf.executing_eagerly_outside_functions is deprecated. Please use tf.compat.v1.executing_eagerly_outside_functions instead.\n",
      "\n",
      "92/92 [==============================] - 2s 6ms/step - loss: 316.2482 - accuracy: 0.8206 - val_loss: 6.1923 - val_accuracy: 0.8904\n",
      "Epoch 2/50\n",
      "92/92 [==============================] - 0s 3ms/step - loss: 88.2226 - accuracy: 0.8916 - val_loss: 8.6847 - val_accuracy: 0.8932\n",
      "Epoch 3/50\n",
      "92/92 [==============================] - 0s 3ms/step - loss: 60.3360 - accuracy: 0.8944 - val_loss: 6.2566 - val_accuracy: 0.9205\n",
      "Epoch 4/50\n",
      "92/92 [==============================] - 0s 3ms/step - loss: 43.9044 - accuracy: 0.8975 - val_loss: 6.2418 - val_accuracy: 0.9164\n",
      "Epoch 5/50\n",
      "92/92 [==============================] - 0s 3ms/step - loss: 25.8230 - accuracy: 0.8937 - val_loss: 5.1866 - val_accuracy: 0.9000\n",
      "Epoch 6/50\n",
      "92/92 [==============================] - 0s 3ms/step - loss: 22.5882 - accuracy: 0.8964 - val_loss: 6.6710 - val_accuracy: 0.9164\n",
      "Epoch 7/50\n",
      "92/92 [==============================] - 0s 3ms/step - loss: 19.6484 - accuracy: 0.8951 - val_loss: 6.4514 - val_accuracy: 0.9000\n",
      "Epoch 8/50\n",
      "92/92 [==============================] - 0s 3ms/step - loss: 34.7487 - accuracy: 0.9016 - val_loss: 4.6862 - val_accuracy: 0.9301\n",
      "Epoch 9/50\n",
      "92/92 [==============================] - 0s 3ms/step - loss: 48.2751 - accuracy: 0.9095 - val_loss: 3.9798 - val_accuracy: 0.9000\n",
      "Epoch 10/50\n",
      "92/92 [==============================] - 0s 3ms/step - loss: 12.3461 - accuracy: 0.9098 - val_loss: 3.6213 - val_accuracy: 0.9041\n",
      "Epoch 11/50\n",
      "92/92 [==============================] - 0s 3ms/step - loss: 10.5317 - accuracy: 0.9112 - val_loss: 3.5728 - val_accuracy: 0.9123\n",
      "Epoch 12/50\n",
      "92/92 [==============================] - 0s 3ms/step - loss: 10.5743 - accuracy: 0.9156 - val_loss: 3.2678 - val_accuracy: 0.9082\n",
      "Epoch 13/50\n",
      "92/92 [==============================] - 0s 3ms/step - loss: 10.0549 - accuracy: 0.9146 - val_loss: 3.1646 - val_accuracy: 0.9219\n",
      "Epoch 14/50\n",
      "92/92 [==============================] - 0s 3ms/step - loss: 8.0445 - accuracy: 0.9156 - val_loss: 2.9121 - val_accuracy: 0.9110\n",
      "Epoch 15/50\n",
      "92/92 [==============================] - 0s 3ms/step - loss: 7.5529 - accuracy: 0.9132 - val_loss: 2.4552 - val_accuracy: 0.9123\n",
      "Epoch 16/50\n",
      "92/92 [==============================] - 0s 3ms/step - loss: 8.5456 - accuracy: 0.9105 - val_loss: 2.4931 - val_accuracy: 0.9151\n",
      "Epoch 17/50\n",
      "92/92 [==============================] - 0s 3ms/step - loss: 6.6275 - accuracy: 0.9153 - val_loss: 2.5560 - val_accuracy: 0.9219\n",
      "Epoch 18/50\n",
      "92/92 [==============================] - 0s 3ms/step - loss: 6.3641 - accuracy: 0.9156 - val_loss: 2.4658 - val_accuracy: 0.9260\n",
      "Epoch 19/50\n",
      "92/92 [==============================] - 0s 3ms/step - loss: 7.2023 - accuracy: 0.9198 - val_loss: 2.0997 - val_accuracy: 0.9288\n",
      "Epoch 20/50\n",
      "92/92 [==============================] - 0s 3ms/step - loss: 7.4493 - accuracy: 0.9201 - val_loss: 1.9859 - val_accuracy: 0.9260\n",
      "Epoch 21/50\n",
      "92/92 [==============================] - 0s 3ms/step - loss: 6.4521 - accuracy: 0.9239 - val_loss: 1.9444 - val_accuracy: 0.9260\n",
      "Epoch 22/50\n",
      "92/92 [==============================] - 0s 3ms/step - loss: 5.4594 - accuracy: 0.9270 - val_loss: 1.9302 - val_accuracy: 0.9301\n",
      "Epoch 23/50\n",
      "92/92 [==============================] - 0s 3ms/step - loss: 5.6853 - accuracy: 0.9252 - val_loss: 1.7625 - val_accuracy: 0.9329\n",
      "Epoch 24/50\n",
      "92/92 [==============================] - 0s 3ms/step - loss: 15.7903 - accuracy: 0.9201 - val_loss: 2.4874 - val_accuracy: 0.9288\n",
      "Epoch 25/50\n",
      "92/92 [==============================] - 0s 3ms/step - loss: 4.6281 - accuracy: 0.9208 - val_loss: 2.3645 - val_accuracy: 0.9356\n",
      "Epoch 26/50\n",
      "92/92 [==============================] - 0s 3ms/step - loss: 6.9501 - accuracy: 0.9228 - val_loss: 1.9606 - val_accuracy: 0.9411\n",
      "Epoch 27/50\n",
      "92/92 [==============================] - 0s 3ms/step - loss: 5.2987 - accuracy: 0.9273 - val_loss: 1.5531 - val_accuracy: 0.9452\n",
      "Epoch 28/50\n",
      "92/92 [==============================] - 0s 3ms/step - loss: 5.3889 - accuracy: 0.9167 - val_loss: 1.6043 - val_accuracy: 0.9411\n",
      "Epoch 29/50\n",
      "92/92 [==============================] - 0s 3ms/step - loss: 4.9621 - accuracy: 0.9266 - val_loss: 1.3885 - val_accuracy: 0.9479\n",
      "Epoch 30/50\n",
      "92/92 [==============================] - 0s 3ms/step - loss: 6.0844 - accuracy: 0.9318 - val_loss: 1.3058 - val_accuracy: 0.9466\n",
      "Epoch 31/50\n",
      "92/92 [==============================] - 0s 3ms/step - loss: 3.8202 - accuracy: 0.9246 - val_loss: 1.0638 - val_accuracy: 0.9425\n",
      "Epoch 32/50\n",
      "92/92 [==============================] - 0s 3ms/step - loss: 4.1969 - accuracy: 0.9225 - val_loss: 1.1241 - val_accuracy: 0.9479\n",
      "Epoch 33/50\n",
      "92/92 [==============================] - 0s 3ms/step - loss: 2.7695 - accuracy: 0.9283 - val_loss: 1.1419 - val_accuracy: 0.9452\n",
      "Epoch 34/50\n",
      "92/92 [==============================] - 0s 3ms/step - loss: 2.6826 - accuracy: 0.9318 - val_loss: 0.9772 - val_accuracy: 0.9479\n",
      "Epoch 35/50\n",
      "92/92 [==============================] - 0s 3ms/step - loss: 3.0345 - accuracy: 0.9239 - val_loss: 0.9705 - val_accuracy: 0.9493\n",
      "Epoch 36/50\n",
      "92/92 [==============================] - 0s 4ms/step - loss: 2.5008 - accuracy: 0.9328 - val_loss: 0.8391 - val_accuracy: 0.9507\n",
      "Epoch 37/50\n",
      "92/92 [==============================] - 0s 3ms/step - loss: 6.0037 - accuracy: 0.9081 - val_loss: 1.0851 - val_accuracy: 0.9521\n",
      "Epoch 38/50\n",
      "92/92 [==============================] - 0s 3ms/step - loss: 2.2791 - accuracy: 0.9246 - val_loss: 0.8255 - val_accuracy: 0.9521\n",
      "Epoch 39/50\n",
      "92/92 [==============================] - 0s 3ms/step - loss: 2.5369 - accuracy: 0.9280 - val_loss: 0.8477 - val_accuracy: 0.9384\n",
      "Epoch 40/50\n",
      "92/92 [==============================] - 0s 3ms/step - loss: 1.8962 - accuracy: 0.9191 - val_loss: 0.7215 - val_accuracy: 0.9466\n",
      "Epoch 41/50\n",
      "92/92 [==============================] - 0s 3ms/step - loss: 2.2829 - accuracy: 0.9177 - val_loss: 0.8171 - val_accuracy: 0.9575\n",
      "Epoch 42/50\n",
      "92/92 [==============================] - 0s 3ms/step - loss: 1.4587 - accuracy: 0.9345 - val_loss: 0.7103 - val_accuracy: 0.9493\n",
      "Epoch 43/50\n",
      "92/92 [==============================] - 0s 3ms/step - loss: 1.1311 - accuracy: 0.9338 - val_loss: 0.6083 - val_accuracy: 0.9507\n",
      "Epoch 44/50\n",
      "92/92 [==============================] - 0s 3ms/step - loss: 1.5023 - accuracy: 0.9287 - val_loss: 0.5074 - val_accuracy: 0.9548\n",
      "Epoch 45/50\n",
      "92/92 [==============================] - 0s 3ms/step - loss: 1.0075 - accuracy: 0.9180 - val_loss: 0.5665 - val_accuracy: 0.9425\n",
      "Epoch 46/50\n",
      "92/92 [==============================] - 0s 3ms/step - loss: 2.1465 - accuracy: 0.9067 - val_loss: 0.6348 - val_accuracy: 0.9356\n",
      "Epoch 47/50\n",
      "92/92 [==============================] - 0s 3ms/step - loss: 1.4142 - accuracy: 0.9050 - val_loss: 0.7746 - val_accuracy: 0.9562\n",
      "Epoch 48/50\n",
      "92/92 [==============================] - 0s 3ms/step - loss: 1.3908 - accuracy: 0.9115 - val_loss: 0.6305 - val_accuracy: 0.9342\n",
      "Epoch 49/50\n",
      "92/92 [==============================] - 0s 3ms/step - loss: 1.0685 - accuracy: 0.9053 - val_loss: 0.5554 - val_accuracy: 0.9507\n",
      "Epoch 50/50\n",
      "92/92 [==============================] - 0s 3ms/step - loss: 0.9207 - accuracy: 0.9150 - val_loss: 0.4620 - val_accuracy: 0.9425\n"
     ]
    },
    {
     "data": {
      "text/plain": [
       "<keras.src.callbacks.History at 0x2b79bfd7130>"
      ]
     },
     "execution_count": 28,
     "metadata": {},
     "output_type": "execute_result"
    }
   ],
   "source": [
    "#training the LSTM model, 50 epochs\n",
    "model.fit(X_train, y_train, epochs=50, batch_size=32, validation_split=0.2, verbose=1)"
   ]
  },
  {
   "cell_type": "markdown",
   "id": "deaf2ecf",
   "metadata": {},
   "source": [
    "After running 50 epochs to train the LSTM model, its time to use it to make predictions on the dataset, to get its performance metrices, to as similarly to feature prototype, plot the confusion matrix and ROC curve"
   ]
  },
  {
   "cell_type": "code",
   "execution_count": 29,
   "id": "2b39e805",
   "metadata": {},
   "outputs": [
    {
     "name": "stdout",
     "output_type": "stream",
     "text": [
      "114/114 [==============================] - 0s 1ms/step\n",
      "29/29 [==============================] - 0s 1ms/step\n"
     ]
    }
   ],
   "source": [
    "#extracting features from the LSTM model\n",
    "X_train_lstm_features = model.predict(X_train)\n",
    "X_test_lstm_features = model.predict(X_test)"
   ]
  },
  {
   "cell_type": "code",
   "execution_count": 30,
   "id": "5f912e57",
   "metadata": {},
   "outputs": [],
   "source": [
    "#rescaling LSTM features before implementing them into Logistic Regression\n",
    "scaler = StandardScaler()\n",
    "X_train_lstm_features_scaled = scaler.fit_transform(X_train_lstm_features)\n",
    "X_test_lstm_features_scaled = scaler.transform(X_test_lstm_features)"
   ]
  },
  {
   "cell_type": "code",
   "execution_count": 31,
   "id": "5ae47022",
   "metadata": {},
   "outputs": [
    {
     "data": {
      "text/plain": [
       "LogisticRegression(max_iter=1000)"
      ]
     },
     "execution_count": 31,
     "metadata": {},
     "output_type": "execute_result"
    }
   ],
   "source": [
    "#re-training a Logistic Regression model with the LSTM features\n",
    "log_reg = LogisticRegression(max_iter=1000)\n",
    "log_reg.fit(X_train_lstm_features_scaled, y_train)"
   ]
  },
  {
   "cell_type": "code",
   "execution_count": 32,
   "id": "0d31114f",
   "metadata": {},
   "outputs": [],
   "source": [
    "#making predictions using the hybrid model\n",
    "y_pred = log_reg.predict(X_test_lstm_features_scaled)\n",
    "y_prob = log_reg.predict_proba(X_test_lstm_features_scaled)[:, 1]"
   ]
  },
  {
   "cell_type": "code",
   "execution_count": 33,
   "id": "d92d5616",
   "metadata": {},
   "outputs": [],
   "source": [
    "#evaluating the hybrid model\n",
    "accuracy = accuracy_score(y_test, y_pred)\n",
    "precision = precision_score(y_test, y_pred)\n",
    "recall = recall_score(y_test, y_pred)\n",
    "f1 = f1_score(y_test, y_pred)\n",
    "roc_auc = roc_auc_score(y_test, y_prob)\n",
    "conf_matrix = confusion_matrix(y_test, y_pred)"
   ]
  },
  {
   "cell_type": "code",
   "execution_count": 34,
   "id": "9f3ca614",
   "metadata": {},
   "outputs": [
    {
     "name": "stdout",
     "output_type": "stream",
     "text": [
      "Accuracy: 0.93\n",
      "Precision: 0.93\n",
      "Recall: 0.93\n",
      "F1 Score: 0.93\n",
      "ROC AUC Score: 0.98\n",
      "Confusion Matrix:\n",
      "[[417  34]\n",
      " [ 33 428]]\n"
     ]
    }
   ],
   "source": [
    "#displaying evaluation metrics\n",
    "print(f'Accuracy: {accuracy:.2f}')\n",
    "print(f'Precision: {precision:.2f}')\n",
    "print(f'Recall: {recall:.2f}')\n",
    "print(f'F1 Score: {f1:.2f}')\n",
    "print(f'ROC AUC Score: {roc_auc:.2f}')\n",
    "print('Confusion Matrix:')\n",
    "print(conf_matrix)"
   ]
  },
  {
   "cell_type": "code",
   "execution_count": 35,
   "id": "8ae2644d",
   "metadata": {},
   "outputs": [
    {
     "data": {
      "image/png": "[encoded data removed]",
      "text/plain": [
       "<Figure size 800x600 with 2 Axes>"
      ]
     },
     "metadata": {},
     "output_type": "display_data"
    }
   ],
   "source": [
    "#plotting the confusion matrix\n",
    "plt.figure(figsize=(8, 6))\n",
    "sns.heatmap(conf_matrix, annot=True, fmt='d', cmap='Blues')\n",
    "plt.title('Confusion Matrix')\n",
    "plt.xlabel('Predicted Label')\n",
    "plt.ylabel('True Label')\n",
    "plt.show()"
   ]
  },
  {
   "cell_type": "code",
   "execution_count": 36,
   "id": "3ce5ae05",
   "metadata": {},
   "outputs": [
    {
     "data": {
      "image/png": "[encoded data removed]",
      "text/plain": [
       "<Figure size 800x600 with 1 Axes>"
      ]
     },
     "metadata": {},
     "output_type": "display_data"
    }
   ],
   "source": [
    "#plotting the ROC Curve\n",
    "from sklearn.metrics import roc_curve\n",
    "\n",
    "fpr, tpr, _ = roc_curve(y_test, y_prob)\n",
    "plt.figure(figsize=(8, 6))\n",
    "plt.plot(fpr, tpr, label=f'ROC Curve (area = {roc_auc:.2f})')\n",
    "plt.plot([0, 1], [0, 1], 'k--')\n",
    "plt.xlabel('False Positive Rate')\n",
    "plt.ylabel('True Positive Rate')\n",
    "plt.title('ROC Curve')\n",
    "plt.legend(loc='lower right')\n",
    "plt.show()"
   ]
  },
  {
   "cell_type": "code",
   "execution_count": 37,
   "id": "f0d20693",
   "metadata": {
    "scrolled": true
   },
   "outputs": [
    {
     "name": "stdout",
     "output_type": "stream",
     "text": [
      "Summary of Logistic regression combined with LSTM features results:\n",
      "Accuracy: 0.93\n",
      "Precision: 0.93\n",
      "Recall: 0.93\n",
      "F1 Score: 0.93\n",
      "ROC AUC Score: 0.98\n",
      "Confusion Matrix: \n",
      "[[417  34]\n",
      " [ 33 428]]\n"
     ]
    }
   ],
   "source": [
    "#summary of the results\n",
    "print(\"Summary of Logistic regression combined with LSTM features results:\")\n",
    "print(f\"Accuracy: {accuracy:.2f}\")\n",
    "print(f\"Precision: {precision:.2f}\")\n",
    "print(f\"Recall: {recall:.2f}\")\n",
    "print(f\"F1 Score: {f1:.2f}\")\n",
    "print(f\"ROC AUC Score: {roc_auc:.2f}\")\n",
    "print(f\"Confusion Matrix: \\n{conf_matrix}\")"
   ]
  },
  {
   "cell_type": "markdown",
   "id": "6cdec63b",
   "metadata": {},
   "source": [
    "These results show drastic improvements in all the areas as compared to my initial results. The accuracy has increased from 0.40 to 0.93, precision increased from 0.40 to 0.93, recall slightly decreased from 1.00 to 0.93, F1 score improved from 0.58 to 0.93, ROC AUC score improved from 0.77 to 0.98, and confusion matrix's false positives/negatives decreased from 450 to 34"
   ]
  },
  {
   "cell_type": "markdown",
   "id": "e5700f39",
   "metadata": {},
   "source": [
    "This proves that the implemenation of LSTM techniques into my logistic regression model has been a great success! My LSTM model's ability to capture temporal dependencies in the data allows its performance to be much better in predicting wildfires. My model is now more accurate and balanced"
   ]
  },
  {
   "cell_type": "markdown",
   "id": "314c5080",
   "metadata": {},
   "source": [
    "# Part 3: Additional datasets testing"
   ]
  },
  {
   "cell_type": "markdown",
   "id": "a246320c",
   "metadata": {},
   "source": [
    "However, to further validate my model's improved performance, I have to import in the additional datasets that was included in the dataset folder I downloaded from Kaggle, to test them on my model"
   ]
  },
  {
   "cell_type": "markdown",
   "id": "f53347a2",
   "metadata": {},
   "source": [
    "The additional datasets I am adding in, is \"annual-area-burnt-by-wildfires\", and \"share-of-the-total-land-area-burnt-by-wildfires-each-year\". These datasets however, has only 4 columns, instead of the 16 columns that the initial dataset has, meaning that I have to deal with this difference later on. But firstly, using back the loading and pre-processing function"
   ]
  },
  {
   "cell_type": "code",
   "execution_count": 38,
   "id": "6e0353e5",
   "metadata": {
    "scrolled": true
   },
   "outputs": [],
   "source": [
    "#bring back the loading and preprocessing function for additional datasets\n",
    "def load_and_preprocess_additional(file_path, column_name, threshold):\n",
    "    data = pd.read_csv(file_path)\n",
    "    data.columns = ['Entity', 'Code', 'Year', column_name]\n",
    "    data.dropna(inplace=True)\n",
    "    data['Target'] = data[column_name].apply(lambda x: 1 if x > threshold else 0)\n",
    "    X = data[['Year']] \n",
    "    y = data['Target']\n",
    "    return X, y"
   ]
  },
  {
   "cell_type": "code",
   "execution_count": 39,
   "id": "e62d3661",
   "metadata": {},
   "outputs": [],
   "source": [
    "#loading and preprocessing the additional datasets\n",
    "file_path_additional_1 = r'C:\\Users\\Darre\\schoolstuff\\fp tings\\datasets\\2- annual-area-burnt-by-wildfires.csv'\n",
    "file_path_additional_2 = r'C:\\Users\\Darre\\schoolstuff\\fp tings\\datasets\\3- share-of-the-total-land-area-burnt-by-wildfires-each-year.csv'"
   ]
  },
  {
   "cell_type": "markdown",
   "id": "ad3b9d47",
   "metadata": {},
   "source": [
    "To make the additional datasets more easily distinguishable, I will define the column names and thresholds so they can be seperated via name"
   ]
  },
  {
   "cell_type": "code",
   "execution_count": 40,
   "id": "c2b696cc",
   "metadata": {},
   "outputs": [],
   "source": [
    "#defining the column names and thresholds for the additional datasets\n",
    "column_name_1 = 'Annual area burnt by wildfires'\n",
    "column_name_2 = 'Annual share of the total land area burnt by wildfires'\n",
    "threshold_1 = 10000  \n",
    "threshold_2 = 0.05   \n",
    "\n",
    "X_additional_1, y_additional_1 = load_and_preprocess_additional(file_path_additional_1, column_name_1, threshold_1)\n",
    "X_additional_2, y_additional_2 = load_and_preprocess_additional(file_path_additional_2, column_name_2, threshold_2)"
   ]
  },
  {
   "cell_type": "markdown",
   "id": "28ff7163",
   "metadata": {},
   "source": [
    "Balancing, splitting, scaling, and reshaping of the additional data for the LSTM model to use"
   ]
  },
  {
   "cell_type": "code",
   "execution_count": 41,
   "id": "8d3c006b",
   "metadata": {},
   "outputs": [],
   "source": [
    "#using smote to balance datasets\n",
    "smote = SMOTE(random_state=42)\n",
    "X_res_additional_1, y_res_additional_1 = smote.fit_resample(X_additional_1, y_additional_1)\n",
    "X_res_additional_2, y_res_additional_2 = smote.fit_resample(X_additional_2, y_additional_2)"
   ]
  },
  {
   "cell_type": "code",
   "execution_count": 42,
   "id": "c12af5f7",
   "metadata": {},
   "outputs": [],
   "source": [
    "#splitting the data into training and testing sets\n",
    "X_train_additional_1, X_test_additional_1, y_train_additional_1, y_test_additional_1 = train_test_split(X_res_additional_1, y_res_additional_1, test_size=0.2, random_state=42)\n",
    "X_train_additional_2, X_test_additional_2, y_train_additional_2, y_test_additional_2 = train_test_split(X_res_additional_2, y_res_additional_2, test_size=0.2, random_state=42)"
   ]
  },
  {
   "cell_type": "code",
   "execution_count": 43,
   "id": "e775aa03",
   "metadata": {},
   "outputs": [],
   "source": [
    "#scaling the data\n",
    "scaler = StandardScaler()\n",
    "X_train_scaled_additional_1 = scaler.fit_transform(X_train_additional_1)\n",
    "X_test_scaled_additional_1 = scaler.transform(X_test_additional_1)\n",
    "X_train_scaled_additional_2 = scaler.fit_transform(X_train_additional_2)\n",
    "X_test_scaled_additional_2 = scaler.transform(X_test_additional_2)"
   ]
  },
  {
   "cell_type": "code",
   "execution_count": 44,
   "id": "4c9370c9",
   "metadata": {},
   "outputs": [],
   "source": [
    "#reshaping the data for LSTM model\n",
    "X_train_scaled_additional_1 = X_train_scaled_additional_1.reshape((X_train_scaled_additional_1.shape[0], 1, 1))\n",
    "X_test_scaled_additional_1 = X_test_scaled_additional_1.reshape((X_test_scaled_additional_1.shape[0], 1, 1))\n",
    "X_train_scaled_additional_2 = X_train_scaled_additional_2.reshape((X_train_scaled_additional_2.shape[0], 1, 1))\n",
    "X_test_scaled_additional_2 = X_test_scaled_additional_2.reshape((X_test_scaled_additional_2.shape[0], 1, 1))"
   ]
  },
  {
   "cell_type": "markdown",
   "id": "5f9ea36e",
   "metadata": {},
   "source": [
    "Here, to deal with the column differences between the additional datasets and the initial dataset, I shall define a new LSTM model for the additional datasets, whilst still maintaining the same set-up (adding and compiling) as before in Part 2"
   ]
  },
  {
   "cell_type": "code",
   "execution_count": 45,
   "id": "75ee5c9b",
   "metadata": {},
   "outputs": [],
   "source": [
    "#defining a new LSTM model for the additional datasets\n",
    "def build_lstm_model(input_shape):\n",
    "    model = Sequential()\n",
    "    model.add(LSTM(50, activation='relu', input_shape=input_shape, return_sequences=False))\n",
    "    model.add(Dropout(0.2))\n",
    "    model.add(Dense(10, activation='relu'))\n",
    "    model.compile(optimizer='adam', loss='mse')\n",
    "    return model"
   ]
  },
  {
   "cell_type": "code",
   "execution_count": 46,
   "id": "0fcba4c2",
   "metadata": {
    "scrolled": false
   },
   "outputs": [
    {
     "name": "stdout",
     "output_type": "stream",
     "text": [
      "Epoch 1/50\n",
      "68/68 [==============================] - 1s 4ms/step - loss: 0.4268 - val_loss: 0.3824\n",
      "Epoch 2/50\n",
      "68/68 [==============================] - 0s 1ms/step - loss: 0.3179 - val_loss: 0.2930\n",
      "Epoch 3/50\n",
      "68/68 [==============================] - 0s 1ms/step - loss: 0.2853 - val_loss: 0.2806\n",
      "Epoch 4/50\n",
      "68/68 [==============================] - 0s 1ms/step - loss: 0.2789 - val_loss: 0.2783\n",
      "Epoch 5/50\n",
      "68/68 [==============================] - 0s 1ms/step - loss: 0.2777 - val_loss: 0.2790\n",
      "Epoch 6/50\n",
      "68/68 [==============================] - 0s 1ms/step - loss: 0.2728 - val_loss: 0.2587\n",
      "Epoch 7/50\n",
      "68/68 [==============================] - 0s 1ms/step - loss: 0.2535 - val_loss: 0.2509\n",
      "Epoch 8/50\n",
      "68/68 [==============================] - 0s 1ms/step - loss: 0.2535 - val_loss: 0.2507\n",
      "Epoch 9/50\n",
      "68/68 [==============================] - 0s 1ms/step - loss: 0.2515 - val_loss: 0.2504\n",
      "Epoch 10/50\n",
      "68/68 [==============================] - 0s 1ms/step - loss: 0.2521 - val_loss: 0.2503\n",
      "Epoch 11/50\n",
      "68/68 [==============================] - 0s 1ms/step - loss: 0.2519 - val_loss: 0.2514\n",
      "Epoch 12/50\n",
      "68/68 [==============================] - 0s 1ms/step - loss: 0.2514 - val_loss: 0.2506\n",
      "Epoch 13/50\n",
      "68/68 [==============================] - 0s 1ms/step - loss: 0.2504 - val_loss: 0.2508\n",
      "Epoch 14/50\n",
      "68/68 [==============================] - 0s 1ms/step - loss: 0.2504 - val_loss: 0.2514\n",
      "Epoch 15/50\n",
      "68/68 [==============================] - 0s 1ms/step - loss: 0.2511 - val_loss: 0.2504\n",
      "Epoch 16/50\n",
      "68/68 [==============================] - 0s 1ms/step - loss: 0.2509 - val_loss: 0.2510\n",
      "Epoch 17/50\n",
      "68/68 [==============================] - 0s 1ms/step - loss: 0.2499 - val_loss: 0.2501\n",
      "Epoch 18/50\n",
      "68/68 [==============================] - 0s 2ms/step - loss: 0.2500 - val_loss: 0.2501\n",
      "Epoch 19/50\n",
      "68/68 [==============================] - 0s 1ms/step - loss: 0.2496 - val_loss: 0.2502\n",
      "Epoch 20/50\n",
      "68/68 [==============================] - 0s 1ms/step - loss: 0.2503 - val_loss: 0.2500\n",
      "Epoch 21/50\n",
      "68/68 [==============================] - 0s 1ms/step - loss: 0.2504 - val_loss: 0.2505\n",
      "Epoch 22/50\n",
      "68/68 [==============================] - 0s 1ms/step - loss: 0.2501 - val_loss: 0.2506\n",
      "Epoch 23/50\n",
      "68/68 [==============================] - 0s 1ms/step - loss: 0.2502 - val_loss: 0.2508\n",
      "Epoch 24/50\n",
      "68/68 [==============================] - 0s 1ms/step - loss: 0.2505 - val_loss: 0.2499\n",
      "Epoch 25/50\n",
      "68/68 [==============================] - 0s 1ms/step - loss: 0.2502 - val_loss: 0.2506\n",
      "Epoch 26/50\n",
      "68/68 [==============================] - 0s 1ms/step - loss: 0.2495 - val_loss: 0.2500\n",
      "Epoch 27/50\n",
      "68/68 [==============================] - 0s 1ms/step - loss: 0.2492 - val_loss: 0.2501\n",
      "Epoch 28/50\n",
      "68/68 [==============================] - 0s 1ms/step - loss: 0.2497 - val_loss: 0.2501\n",
      "Epoch 29/50\n",
      "68/68 [==============================] - 0s 2ms/step - loss: 0.2498 - val_loss: 0.2502\n",
      "Epoch 30/50\n",
      "68/68 [==============================] - 0s 1ms/step - loss: 0.2502 - val_loss: 0.2498\n",
      "Epoch 31/50\n",
      "68/68 [==============================] - 0s 1ms/step - loss: 0.2490 - val_loss: 0.2504\n",
      "Epoch 32/50\n",
      "68/68 [==============================] - 0s 1ms/step - loss: 0.2489 - val_loss: 0.2505\n",
      "Epoch 33/50\n",
      "68/68 [==============================] - 0s 1ms/step - loss: 0.2504 - val_loss: 0.2510\n",
      "Epoch 34/50\n",
      "68/68 [==============================] - 0s 1ms/step - loss: 0.2490 - val_loss: 0.2499\n",
      "Epoch 35/50\n",
      "68/68 [==============================] - 0s 1ms/step - loss: 0.2484 - val_loss: 0.2501\n",
      "Epoch 36/50\n",
      "68/68 [==============================] - 0s 1ms/step - loss: 0.2488 - val_loss: 0.2503\n",
      "Epoch 37/50\n",
      "68/68 [==============================] - 0s 1ms/step - loss: 0.2495 - val_loss: 0.2506\n",
      "Epoch 38/50\n",
      "68/68 [==============================] - 0s 1ms/step - loss: 0.2497 - val_loss: 0.2503\n",
      "Epoch 39/50\n",
      "68/68 [==============================] - 0s 1ms/step - loss: 0.2487 - val_loss: 0.2503\n",
      "Epoch 40/50\n",
      "68/68 [==============================] - 0s 1ms/step - loss: 0.2484 - val_loss: 0.2508\n",
      "Epoch 41/50\n",
      "68/68 [==============================] - 0s 1ms/step - loss: 0.2492 - val_loss: 0.2512\n",
      "Epoch 42/50\n",
      "68/68 [==============================] - 0s 1ms/step - loss: 0.2504 - val_loss: 0.2510\n",
      "Epoch 43/50\n",
      "68/68 [==============================] - 0s 1ms/step - loss: 0.2491 - val_loss: 0.2508\n",
      "Epoch 44/50\n",
      "68/68 [==============================] - 0s 1ms/step - loss: 0.2492 - val_loss: 0.2510\n",
      "Epoch 45/50\n",
      "68/68 [==============================] - 0s 1ms/step - loss: 0.2490 - val_loss: 0.2501\n",
      "Epoch 46/50\n",
      "68/68 [==============================] - 0s 1ms/step - loss: 0.2488 - val_loss: 0.2511\n",
      "Epoch 47/50\n",
      "68/68 [==============================] - 0s 1ms/step - loss: 0.2487 - val_loss: 0.2504\n",
      "Epoch 48/50\n",
      "68/68 [==============================] - 0s 1ms/step - loss: 0.2483 - val_loss: 0.2519\n",
      "Epoch 49/50\n",
      "68/68 [==============================] - 0s 1ms/step - loss: 0.2489 - val_loss: 0.2499\n",
      "Epoch 50/50\n",
      "68/68 [==============================] - 0s 1ms/step - loss: 0.2497 - val_loss: 0.2507\n",
      "85/85 [==============================] - 0s 653us/step\n",
      "22/22 [==============================] - 0s 735us/step\n",
      "Epoch 1/50\n",
      "74/74 [==============================] - 1s 4ms/step - loss: 0.4261 - val_loss: 0.3537\n",
      "Epoch 2/50\n",
      "74/74 [==============================] - 0s 2ms/step - loss: 0.2953 - val_loss: 0.2688\n",
      "Epoch 3/50\n",
      "74/74 [==============================] - 0s 1ms/step - loss: 0.2614 - val_loss: 0.2580\n",
      "Epoch 4/50\n",
      "74/74 [==============================] - 0s 1ms/step - loss: 0.2557 - val_loss: 0.2541\n",
      "Epoch 5/50\n",
      "74/74 [==============================] - 0s 1ms/step - loss: 0.2540 - val_loss: 0.2518\n",
      "Epoch 6/50\n",
      "74/74 [==============================] - 0s 1ms/step - loss: 0.2526 - val_loss: 0.2507\n",
      "Epoch 7/50\n",
      "74/74 [==============================] - 0s 1ms/step - loss: 0.2515 - val_loss: 0.2498\n",
      "Epoch 8/50\n",
      "74/74 [==============================] - 0s 1ms/step - loss: 0.2515 - val_loss: 0.2489\n",
      "Epoch 9/50\n",
      "74/74 [==============================] - 0s 1ms/step - loss: 0.2506 - val_loss: 0.2484\n",
      "Epoch 10/50\n",
      "74/74 [==============================] - 0s 2ms/step - loss: 0.2493 - val_loss: 0.2480\n",
      "Epoch 11/50\n",
      "74/74 [==============================] - 0s 1ms/step - loss: 0.2505 - val_loss: 0.2480\n",
      "Epoch 12/50\n",
      "74/74 [==============================] - 0s 1ms/step - loss: 0.2513 - val_loss: 0.2476\n",
      "Epoch 13/50\n",
      "74/74 [==============================] - 0s 1ms/step - loss: 0.2499 - val_loss: 0.2472\n",
      "Epoch 14/50\n",
      "74/74 [==============================] - 0s 2ms/step - loss: 0.2513 - val_loss: 0.2470\n",
      "Epoch 15/50\n",
      "74/74 [==============================] - 0s 1ms/step - loss: 0.2509 - val_loss: 0.2468\n",
      "Epoch 16/50\n",
      "74/74 [==============================] - 0s 1ms/step - loss: 0.2503 - val_loss: 0.2467\n",
      "Epoch 17/50\n",
      "74/74 [==============================] - 0s 1ms/step - loss: 0.2499 - val_loss: 0.2465\n",
      "Epoch 18/50\n",
      "74/74 [==============================] - 0s 1ms/step - loss: 0.2484 - val_loss: 0.2463\n",
      "Epoch 19/50\n",
      "74/74 [==============================] - 0s 1ms/step - loss: 0.2496 - val_loss: 0.2464\n",
      "Epoch 20/50\n",
      "74/74 [==============================] - 0s 2ms/step - loss: 0.2504 - val_loss: 0.2462\n",
      "Epoch 21/50\n",
      "74/74 [==============================] - 0s 1ms/step - loss: 0.2484 - val_loss: 0.2462\n",
      "Epoch 22/50\n",
      "74/74 [==============================] - 0s 2ms/step - loss: 0.2491 - val_loss: 0.2461\n",
      "Epoch 23/50\n",
      "74/74 [==============================] - 0s 1ms/step - loss: 0.2484 - val_loss: 0.2462\n",
      "Epoch 24/50\n",
      "74/74 [==============================] - 0s 1ms/step - loss: 0.2495 - val_loss: 0.2459\n",
      "Epoch 25/50\n",
      "74/74 [==============================] - 0s 1ms/step - loss: 0.2489 - val_loss: 0.2462\n",
      "Epoch 26/50\n",
      "74/74 [==============================] - 0s 1ms/step - loss: 0.2488 - val_loss: 0.2457\n",
      "Epoch 27/50\n",
      "74/74 [==============================] - 0s 1ms/step - loss: 0.2492 - val_loss: 0.2456\n",
      "Epoch 28/50\n",
      "74/74 [==============================] - 0s 1ms/step - loss: 0.2492 - val_loss: 0.2457\n",
      "Epoch 29/50\n",
      "74/74 [==============================] - 0s 2ms/step - loss: 0.2486 - val_loss: 0.2459\n",
      "Epoch 30/50\n",
      "74/74 [==============================] - 0s 1ms/step - loss: 0.2488 - val_loss: 0.2459\n",
      "Epoch 31/50\n",
      "74/74 [==============================] - 0s 1ms/step - loss: 0.2481 - val_loss: 0.2456\n",
      "Epoch 32/50\n",
      "74/74 [==============================] - 0s 1ms/step - loss: 0.2479 - val_loss: 0.2454\n"
     ]
    },
    {
     "name": "stdout",
     "output_type": "stream",
     "text": [
      "Epoch 33/50\n",
      "74/74 [==============================] - 0s 1ms/step - loss: 0.2487 - val_loss: 0.2457\n",
      "Epoch 34/50\n",
      "74/74 [==============================] - 0s 1ms/step - loss: 0.2486 - val_loss: 0.2453\n",
      "Epoch 35/50\n",
      "74/74 [==============================] - 0s 1ms/step - loss: 0.2484 - val_loss: 0.2453\n",
      "Epoch 36/50\n",
      "74/74 [==============================] - 0s 1ms/step - loss: 0.2476 - val_loss: 0.2451\n",
      "Epoch 37/50\n",
      "74/74 [==============================] - 0s 2ms/step - loss: 0.2495 - val_loss: 0.2454\n",
      "Epoch 38/50\n",
      "74/74 [==============================] - 0s 1ms/step - loss: 0.2486 - val_loss: 0.2452\n",
      "Epoch 39/50\n",
      "74/74 [==============================] - 0s 1ms/step - loss: 0.2487 - val_loss: 0.2450\n",
      "Epoch 40/50\n",
      "74/74 [==============================] - 0s 1ms/step - loss: 0.2489 - val_loss: 0.2449\n",
      "Epoch 41/50\n",
      "74/74 [==============================] - 0s 1ms/step - loss: 0.2481 - val_loss: 0.2450\n",
      "Epoch 42/50\n",
      "74/74 [==============================] - 0s 1ms/step - loss: 0.2481 - val_loss: 0.2451\n",
      "Epoch 43/50\n",
      "74/74 [==============================] - 0s 1ms/step - loss: 0.2486 - val_loss: 0.2449\n",
      "Epoch 44/50\n",
      "74/74 [==============================] - 0s 1ms/step - loss: 0.2476 - val_loss: 0.2449\n",
      "Epoch 45/50\n",
      "74/74 [==============================] - 0s 1ms/step - loss: 0.2489 - val_loss: 0.2450\n",
      "Epoch 46/50\n",
      "74/74 [==============================] - 0s 1ms/step - loss: 0.2482 - val_loss: 0.2448\n",
      "Epoch 47/50\n",
      "74/74 [==============================] - 0s 1ms/step - loss: 0.2485 - val_loss: 0.2451\n",
      "Epoch 48/50\n",
      "74/74 [==============================] - 0s 1ms/step - loss: 0.2484 - val_loss: 0.2451\n",
      "Epoch 49/50\n",
      "74/74 [==============================] - 0s 1ms/step - loss: 0.2475 - val_loss: 0.2451\n",
      "Epoch 50/50\n",
      "74/74 [==============================] - 0s 1ms/step - loss: 0.2486 - val_loss: 0.2451\n",
      "92/92 [==============================] - 0s 674us/step\n",
      "23/23 [==============================] - 0s 698us/step\n"
     ]
    }
   ],
   "source": [
    "#training the LSTM model on additional datasets and extract features\n",
    "model_additional_1 = build_lstm_model((1, 1))\n",
    "model_additional_1.fit(X_train_scaled_additional_1, y_train_additional_1, epochs=50, batch_size=32, validation_split=0.2, verbose=1)\n",
    "X_train_lstm_features_additional_1 = model_additional_1.predict(X_train_scaled_additional_1)\n",
    "X_test_lstm_features_additional_1 = model_additional_1.predict(X_test_scaled_additional_1)\n",
    "\n",
    "model_additional_2 = build_lstm_model((1, 1))\n",
    "model_additional_2.fit(X_train_scaled_additional_2, y_train_additional_2, epochs=50, batch_size=32, validation_split=0.2, verbose=1)\n",
    "X_train_lstm_features_additional_2 = model_additional_2.predict(X_train_scaled_additional_2)\n",
    "X_test_lstm_features_additional_2 = model_additional_2.predict(X_test_scaled_additional_2)"
   ]
  },
  {
   "cell_type": "code",
   "execution_count": 47,
   "id": "f4b19927",
   "metadata": {},
   "outputs": [],
   "source": [
    "#training the Logistic regression model on the LSTM features for additional dataset 1\n",
    "log_reg_additional_1 = LogisticRegression(max_iter=1000)\n",
    "log_reg_additional_1.fit(X_train_lstm_features_additional_1, y_train_additional_1)\n",
    "y_pred_additional_1 = log_reg_additional_1.predict(X_test_lstm_features_additional_1)\n",
    "y_prob_additional_1 = log_reg_additional_1.predict_proba(X_test_lstm_features_additional_1)[:, 1]"
   ]
  },
  {
   "cell_type": "code",
   "execution_count": 48,
   "id": "bf3a2c5e",
   "metadata": {},
   "outputs": [],
   "source": [
    "#training the Logistic regression model on the LSTM features for additional dataset 2\n",
    "log_reg_additional_2 = LogisticRegression(max_iter=1000)\n",
    "log_reg_additional_2.fit(X_train_lstm_features_additional_2, y_train_additional_2)\n",
    "y_pred_additional_2 = log_reg_additional_2.predict(X_test_lstm_features_additional_2)\n",
    "y_prob_additional_2 = log_reg_additional_2.predict_proba(X_test_lstm_features_additional_2)[:, 1]"
   ]
  },
  {
   "cell_type": "code",
   "execution_count": 49,
   "id": "d062cf72",
   "metadata": {},
   "outputs": [],
   "source": [
    "#performance metrices for additional datasets\n",
    "accuracy_additional_1 = accuracy_score(y_test_additional_1, y_pred_additional_1)\n",
    "precision_additional_1 = precision_score(y_test_additional_1, y_pred_additional_1)\n",
    "recall_additional_1 = recall_score(y_test_additional_1, y_pred_additional_1)\n",
    "f1_additional_1 = f1_score(y_test_additional_1, y_pred_additional_1)\n",
    "roc_auc_additional_1 = roc_auc_score(y_test_additional_1, y_prob_additional_1)\n",
    "conf_matrix_additional_1 = confusion_matrix(y_test_additional_1, y_pred_additional_1)\n",
    "\n",
    "accuracy_additional_2 = accuracy_score(y_test_additional_2, y_pred_additional_2)\n",
    "precision_additional_2 = precision_score(y_test_additional_2, y_pred_additional_2)\n",
    "recall_additional_2 = recall_score(y_test_additional_2, y_pred_additional_2)\n",
    "f1_additional_2 = f1_score(y_test_additional_2, y_pred_additional_2)\n",
    "roc_auc_additional_2 = roc_auc_score(y_test_additional_2, y_prob_additional_2)\n",
    "conf_matrix_additional_2 = confusion_matrix(y_test_additional_2, y_pred_additional_2)"
   ]
  },
  {
   "cell_type": "markdown",
   "id": "b74d541c",
   "metadata": {},
   "source": [
    "And finally, displaying the performance metrices for the additional datatsets to compare"
   ]
  },
  {
   "cell_type": "code",
   "execution_count": 50,
   "id": "8f991a9e",
   "metadata": {
    "scrolled": true
   },
   "outputs": [
    {
     "name": "stdout",
     "output_type": "stream",
     "text": [
      "Additional Dataset 1 - Accuracy: 0.51\n",
      "Additional Dataset 1 - Precision: 0.53\n",
      "Additional Dataset 1 - Recall: 0.69\n",
      "Additional Dataset 1 - F1 Score: 0.60\n",
      "Additional Dataset 1 - ROC AUC Score: 0.51\n",
      "Additional Dataset 1 - Confusion Matrix:\n",
      "[[103 222]\n",
      " [109 246]]\n",
      "Additional Dataset 2 - Accuracy: 0.55\n",
      "Additional Dataset 2 - Precision: 0.55\n",
      "Additional Dataset 2 - Recall: 0.71\n",
      "Additional Dataset 2 - F1 Score: 0.62\n",
      "Additional Dataset 2 - ROC AUC Score: 0.55\n",
      "Additional Dataset 2 - Confusion Matrix:\n",
      "[[136 218]\n",
      " [111 268]]\n"
     ]
    }
   ],
   "source": [
    "#displaying the performance metrices for additional datasets\n",
    "print(f'Additional Dataset 1 - Accuracy: {accuracy_additional_1:.2f}')\n",
    "print(f'Additional Dataset 1 - Precision: {precision_additional_1:.2f}')\n",
    "print(f'Additional Dataset 1 - Recall: {recall_additional_1:.2f}')\n",
    "print(f'Additional Dataset 1 - F1 Score: {f1_additional_1:.2f}')\n",
    "print(f'Additional Dataset 1 - ROC AUC Score: {roc_auc_additional_1:.2f}')\n",
    "print('Additional Dataset 1 - Confusion Matrix:')\n",
    "print(conf_matrix_additional_1)\n",
    "\n",
    "print(f'Additional Dataset 2 - Accuracy: {accuracy_additional_2:.2f}')\n",
    "print(f'Additional Dataset 2 - Precision: {precision_additional_2:.2f}')\n",
    "print(f'Additional Dataset 2 - Recall: {recall_additional_2:.2f}')\n",
    "print(f'Additional Dataset 2 - F1 Score: {f1_additional_2:.2f}')\n",
    "print(f'Additional Dataset 2 - ROC AUC Score: {roc_auc_additional_2:.2f}')\n",
    "print('Additional Dataset 2 - Confusion Matrix:')\n",
    "print(conf_matrix_additional_2)"
   ]
  },
  {
   "cell_type": "code",
   "execution_count": 51,
   "id": "cdf8f180",
   "metadata": {
    "scrolled": true
   },
   "outputs": [
    {
     "data": {
      "image/png": "[encoded data removed]",
      "text/plain": [
       "<Figure size 800x600 with 2 Axes>"
      ]
     },
     "metadata": {},
     "output_type": "display_data"
    }
   ],
   "source": [
    "#plotting the confusion matrix for additional dataset 1\n",
    "plt.figure(figsize=(8, 6))\n",
    "sns.heatmap(conf_matrix_additional_1, annot=True, fmt='d', cmap='Blues')\n",
    "plt.title('Additional Dataset 1 - Confusion Matrix')\n",
    "plt.xlabel('Predicted Label')\n",
    "plt.ylabel('True Label')\n",
    "plt.show()"
   ]
  },
  {
   "cell_type": "code",
   "execution_count": 52,
   "id": "94fa0313",
   "metadata": {},
   "outputs": [
    {
     "data": {
      "image/png": "[encoded data removed]",
      "text/plain": [
       "<Figure size 800x600 with 2 Axes>"
      ]
     },
     "metadata": {},
     "output_type": "display_data"
    }
   ],
   "source": [
    "#plotting the confusion matrix for additional dataset 2\n",
    "plt.figure(figsize=(8, 6))\n",
    "sns.heatmap(conf_matrix_additional_2, annot=True, fmt='d', cmap='Blues')\n",
    "plt.title('Additional Dataset 2 - Confusion Matrix')\n",
    "plt.xlabel('Predicted Label')\n",
    "plt.ylabel('True Label')\n",
    "plt.show()"
   ]
  },
  {
   "cell_type": "markdown",
   "id": "ddfe0ff4",
   "metadata": {},
   "source": [
    "While my hybrid model has performed better on the original dataset, its performance metrices on the additional datasets, shows room for improvement. The lower ROC AUC scores, suggests that my model's ability to distinguish between positive and negative classes is not as strong in these cases"
   ]
  },
  {
   "cell_type": "markdown",
   "id": "55e0e7b6",
   "metadata": {},
   "source": [
    "# Part 4: Validation testing"
   ]
  },
  {
   "cell_type": "markdown",
   "id": "1220e2fd",
   "metadata": {},
   "source": [
    "For this part, I will be doing performance metrices comparison between my hybrid model with 3 other common existing deep learning models in the field, namely being 1. Linear Discriminant Analysis, 2. Support Vector Machine, 3. Gaussian Naive Bayes. This process will allow me to cross-test and determine if my hybrid model's performance will hold up as the best amongst the others"
   ]
  },
  {
   "cell_type": "markdown",
   "id": "b4b369cc",
   "metadata": {},
   "source": [
    "Firstly, I shall import in the libraries required for the 3 other deep learning models from sklearn"
   ]
  },
  {
   "cell_type": "code",
   "execution_count": 53,
   "id": "b22dbc19",
   "metadata": {},
   "outputs": [],
   "source": [
    "from sklearn.naive_bayes import GaussianNB\n",
    "from sklearn.svm import SVC\n",
    "from sklearn.discriminant_analysis import LinearDiscriminantAnalysis"
   ]
  },
  {
   "cell_type": "markdown",
   "id": "695ae697",
   "metadata": {},
   "source": [
    "Then, I shall load back the original dataset from before used for Part 1 and 2, and conducting the same usual balancing, splitting, and scaling of the dataset, using SMOTE and StandardScalar. The result of the x and y data will be printed out too to ensure its consistency"
   ]
  },
  {
   "cell_type": "code",
   "execution_count": 54,
   "id": "311853b7",
   "metadata": {},
   "outputs": [],
   "source": [
    "#loading back the original dataset\n",
    "file_path = r'C:\\Users\\Darre\\schoolstuff\\fp tings\\datasets\\1- cumulative-area-burnt-by-wildfires-by-week.csv'\n",
    "X, y = load_and_preprocess_lstm(file_path)"
   ]
  },
  {
   "cell_type": "code",
   "execution_count": 55,
   "id": "db6a59fb",
   "metadata": {},
   "outputs": [],
   "source": [
    "#using SMOTE to balance the dataset\n",
    "smote = SMOTE(random_state=42)\n",
    "X_res, y_res = smote.fit_resample(X, y)"
   ]
  },
  {
   "cell_type": "code",
   "execution_count": 56,
   "id": "0d80d1c9",
   "metadata": {},
   "outputs": [],
   "source": [
    "#splitting the data into sets\n",
    "X_train, X_test, y_train, y_test = train_test_split(X_res, y_res, test_size=0.2, random_state=42)"
   ]
  },
  {
   "cell_type": "code",
   "execution_count": 57,
   "id": "f0e0c8ac",
   "metadata": {},
   "outputs": [],
   "source": [
    "#scaling the data\n",
    "scaler = StandardScaler()\n",
    "X_train_scaled = scaler.fit_transform(X_train)\n",
    "X_test_scaled = scaler.transform(X_test)"
   ]
  },
  {
   "cell_type": "code",
   "execution_count": 58,
   "id": "64b6df76",
   "metadata": {
    "scrolled": false
   },
   "outputs": [
    {
     "name": "stdout",
     "output_type": "stream",
     "text": [
      "X_train_scaled shape: (3646, 12)\n",
      "y_train shape: (3646,)\n"
     ]
    }
   ],
   "source": [
    "#verifying the consistency of x and y\n",
    "print(f'X_train_scaled shape: {X_train_scaled.shape}')\n",
    "print(f'y_train shape: {y_train.shape}')"
   ]
  },
  {
   "cell_type": "markdown",
   "id": "5c6d4345",
   "metadata": {},
   "source": [
    "Next, I shall begin working on the first deep learning model, being Linear Discriminant Analysis. This process involves training the imported model on the prepared data, evaluating its performance, and printing out its performance metrices for comparison.\n",
    "\n",
    "LDA is a linear classifier that works well when classes are linearly separable and the data follows a Gaussian distribution. It is effective for dimensionality reduction and dealing with multi-class problems."
   ]
  },
  {
   "cell_type": "code",
   "execution_count": 59,
   "id": "a7fb0f70",
   "metadata": {
    "scrolled": true
   },
   "outputs": [
    {
     "name": "stdout",
     "output_type": "stream",
     "text": [
      "LDA Performance:\n",
      "Accuracy: 0.61\n",
      "Precision: 1.00\n",
      "Recall: 0.23\n",
      "F1 Score: 0.37\n",
      "ROC AUC Score: 0.71\n",
      "Linear Discriminant Analysis Confusion Matrix:\n",
      "[[451   0]\n",
      " [355 106]]\n"
     ]
    }
   ],
   "source": [
    "#training the LDA model\n",
    "lda_model = LinearDiscriminantAnalysis()\n",
    "lda_model.fit(X_train_scaled, y_train)\n",
    "\n",
    "#evaluating the LDA model\n",
    "y_pred_lda = lda_model.predict(X_test_scaled)\n",
    "y_prob_lda = lda_model.predict_proba(X_test_scaled)[:, 1]\n",
    "\n",
    "#metrics for LDA\n",
    "accuracy_lda = accuracy_score(y_test, y_pred_lda)\n",
    "precision_lda = precision_score(y_test, y_pred_lda)\n",
    "recall_lda = recall_score(y_test, y_pred_lda)\n",
    "f1_lda = f1_score(y_test, y_pred_lda)\n",
    "roc_auc_lda = roc_auc_score(y_test, y_prob_lda)\n",
    "conf_matrix_lda = confusion_matrix(y_test, y_pred_lda)\n",
    "\n",
    "print(\"LDA Performance:\")\n",
    "print(f\"Accuracy: {accuracy_lda:.2f}\")\n",
    "print(f\"Precision: {precision_lda:.2f}\")\n",
    "print(f\"Recall: {recall_lda:.2f}\")\n",
    "print(f\"F1 Score: {f1_lda:.2f}\")\n",
    "print(f\"ROC AUC Score: {roc_auc_lda:.2f}\")\n",
    "print(\"Linear Discriminant Analysis Confusion Matrix:\")\n",
    "print(conf_matrix_lda)"
   ]
  },
  {
   "cell_type": "code",
   "execution_count": 60,
   "id": "2ed14f2e",
   "metadata": {
    "scrolled": true
   },
   "outputs": [
    {
     "data": {
      "image/png": "[encoded data removed]",
      "text/plain": [
       "<Figure size 800x600 with 2 Axes>"
      ]
     },
     "metadata": {},
     "output_type": "display_data"
    }
   ],
   "source": [
    "#plotting the confusion matrix for LDA\n",
    "plt.figure(figsize=(8, 6))\n",
    "sns.heatmap(conf_matrix_lda, annot=True, fmt='d', cmap='Blues')\n",
    "plt.title('LDA - Confusion Matrix')\n",
    "plt.xlabel('Predicted Label')\n",
    "plt.ylabel('True Label')\n",
    "plt.show()"
   ]
  },
  {
   "cell_type": "markdown",
   "id": "b0c9f28d",
   "metadata": {},
   "source": [
    "Next, I shall begin continue on the second deep learning model, being Support Vector Machines. This process involves training the imported model on the prepared data, evaluating its performance, and printing out its performance metrices for comparison.\n",
    "\n",
    "SVM is powerful for handling high-dimensional data and finding a hyperplane that maximizes the margin between classes. It works well with both linear and non-linear data using kernel tricks, making it robust against overfitting, especially in smaller datasets."
   ]
  },
  {
   "cell_type": "code",
   "execution_count": 61,
   "id": "1453e43f",
   "metadata": {},
   "outputs": [
    {
     "name": "stdout",
     "output_type": "stream",
     "text": [
      "SVM Results:\n",
      "Accuracy: 0.68\n",
      "Precision: 1.00\n",
      "Recall: 0.37\n",
      "F1 Score: 0.54\n",
      "ROC AUC Score: 0.99\n",
      "SVM Confusion Matrix:\n",
      "[[451   0]\n",
      " [291 170]]\n"
     ]
    }
   ],
   "source": [
    "#training the SVM model\n",
    "svm_model = SVC(probability=True, random_state=42)\n",
    "svm_model.fit(X_train_scaled, y_train)\n",
    "\n",
    "#evaluating the SVM model\n",
    "y_pred_svm = svm_model.predict(X_test_scaled)\n",
    "y_prob_svm = svm_model.predict_proba(X_test_scaled)[:, 1]\n",
    "\n",
    "#metrics for SVM\n",
    "accuracy_svm = accuracy_score(y_test, y_pred_svm)\n",
    "precision_svm = precision_score(y_test, y_pred_svm)\n",
    "recall_svm = recall_score(y_test, y_pred_svm)\n",
    "f1_svm = f1_score(y_test, y_pred_svm)\n",
    "roc_auc_svm = roc_auc_score(y_test, y_prob_svm)\n",
    "conf_matrix_svm = confusion_matrix(y_test, y_pred_svm)\n",
    "\n",
    "print(\"SVM Results:\")\n",
    "print(f\"Accuracy: {accuracy_svm:.2f}\")\n",
    "print(f\"Precision: {precision_svm:.2f}\")\n",
    "print(f\"Recall: {recall_svm:.2f}\")\n",
    "print(f\"F1 Score: {f1_svm:.2f}\")\n",
    "print(f\"ROC AUC Score: {roc_auc_svm:.2f}\")\n",
    "print(\"SVM Confusion Matrix:\")\n",
    "print(conf_matrix_svm)"
   ]
  },
  {
   "cell_type": "code",
   "execution_count": 62,
   "id": "d70d4e10",
   "metadata": {},
   "outputs": [
    {
     "data": {
      "image/png": "[encoded data removed]",
      "text/plain": [
       "<Figure size 800x600 with 2 Axes>"
      ]
     },
     "metadata": {},
     "output_type": "display_data"
    }
   ],
   "source": [
    "#plotting the confusion matrix for SVM\n",
    "plt.figure(figsize=(8, 6))\n",
    "sns.heatmap(conf_matrix_svm, annot=True, fmt='d', cmap='Blues')\n",
    "plt.title('SVM - Confusion Matrix')\n",
    "plt.xlabel('Predicted Label')\n",
    "plt.ylabel('True Label')\n",
    "plt.show()"
   ]
  },
  {
   "cell_type": "markdown",
   "id": "11cd9fe0",
   "metadata": {},
   "source": [
    "Lastly, I shall continue working on the third and final deep learning model, being Gaussian Naive Bayes. This process involves training the imported model on the prepared data, evaluating its performance, and printing out its performance metrices for comparison.\n",
    "\n",
    "Naive Bayes is a probabilistic classifier that assumes feature independence. Its simple, fast, and performs well with large datasets, especially when features are categorical or when dealing with text classification problems. It is also effective when the classes are not linearly separable."
   ]
  },
  {
   "cell_type": "code",
   "execution_count": 63,
   "id": "881b59fc",
   "metadata": {},
   "outputs": [
    {
     "name": "stdout",
     "output_type": "stream",
     "text": [
      "Naive Bayes Performance:\n",
      "Accuracy: 0.90\n",
      "Precision: 0.99\n",
      "Recall: 0.81\n",
      "F1 Score: 0.89\n",
      "ROC AUC Score: 0.98\n",
      "Naive Bayes Confusion Matrix:\n",
      "[[449   2]\n",
      " [ 88 373]]\n"
     ]
    }
   ],
   "source": [
    "#training the Naive Bayes model\n",
    "nb_model = GaussianNB()\n",
    "nb_model.fit(X_train_scaled, y_train)\n",
    "\n",
    "#evaluating the Naive Bayes model\n",
    "y_pred_nb = nb_model.predict(X_test_scaled)\n",
    "y_prob_nb = nb_model.predict_proba(X_test_scaled)[:, 1]\n",
    "\n",
    "#metrics for NB\n",
    "accuracy_nb = accuracy_score(y_test, y_pred_nb)\n",
    "precision_nb = precision_score(y_test, y_pred_nb)\n",
    "recall_nb = recall_score(y_test, y_pred_nb)\n",
    "f1_nb = f1_score(y_test, y_pred_nb)\n",
    "roc_auc_nb = roc_auc_score(y_test, y_prob_nb)\n",
    "conf_matrix_nb = confusion_matrix(y_test, y_pred_nb)\n",
    "\n",
    "print(\"Naive Bayes Performance:\")\n",
    "print(f\"Accuracy: {accuracy_nb:.2f}\")\n",
    "print(f\"Precision: {precision_nb:.2f}\")\n",
    "print(f\"Recall: {recall_nb:.2f}\")\n",
    "print(f\"F1 Score: {f1_nb:.2f}\")\n",
    "print(f\"ROC AUC Score: {roc_auc_nb:.2f}\")\n",
    "print(\"Naive Bayes Confusion Matrix:\")\n",
    "print(conf_matrix_nb)"
   ]
  },
  {
   "cell_type": "code",
   "execution_count": 64,
   "id": "99a2133a",
   "metadata": {},
   "outputs": [
    {
     "data": {
      "image/png": "[encoded data removed]",
      "text/plain": [
       "<Figure size 800x600 with 2 Axes>"
      ]
     },
     "metadata": {},
     "output_type": "display_data"
    }
   ],
   "source": [
    "#plotting the confusion matrix for NB\n",
    "plt.figure(figsize=(8, 6))\n",
    "sns.heatmap(conf_matrix_nb, annot=True, fmt='d', cmap='Blues')\n",
    "plt.title('NB - Confusion Matrix')\n",
    "plt.xlabel('Predicted Label')\n",
    "plt.ylabel('True Label')\n",
    "plt.show()"
   ]
  },
  {
   "cell_type": "markdown",
   "id": "4f9c803a",
   "metadata": {},
   "source": [
    "Next up, after getting the performance metrices of all 3 imported models on the original dataset, I shall proceed to also carry over Additional Testing too, having the 3 models analyze the 2 additional datasets used in Part 3.\n",
    "\n",
    "This process is meant to get their performance metrices to compare against my hybrid model's performance in Part 3 to get a more accurate and well-rounded comparison result."
   ]
  },
  {
   "cell_type": "markdown",
   "id": "ec65c759",
   "metadata": {},
   "source": [
    "For this process, for each of the models, I shall use a function to simplify the above training process, involving loading, pre-processing, balancing, splitting, scaling, and reshaping the data for the individual models to train on. Afterwards, evaluating the models on their performance, and printing out their metrices"
   ]
  },
  {
   "cell_type": "code",
   "execution_count": 65,
   "id": "e330abc5",
   "metadata": {},
   "outputs": [
    {
     "name": "stdout",
     "output_type": "stream",
     "text": [
      "LDA Performance on Additional Dataset 1:\n",
      "Accuracy: 0.49\n",
      "Precision: 0.51\n",
      "Recall: 0.45\n",
      "F1 Score: 0.48\n",
      "ROC AUC Score: 0.51\n",
      "Additional Dataset 1 Confusion Matrix:\n",
      "[[171 154]\n",
      " [196 159]]\n",
      "\n",
      "\n",
      "LDA Performance on Additional Dataset 2:\n",
      "Accuracy: 0.55\n",
      "Precision: 0.57\n",
      "Recall: 0.51\n",
      "F1 Score: 0.54\n",
      "ROC AUC Score: 0.57\n",
      "Additional Dataset 2 Confusion Matrix:\n",
      "[[206 148]\n",
      " [184 195]]\n",
      "\n",
      "\n"
     ]
    }
   ],
   "source": [
    "#function for training LDA model on the additional datasets\n",
    "def evaluate_lda_on_additional_dataset(X_train, X_test, y_train, y_test, dataset_name):\n",
    "    #same as above, but re-training on additional data\n",
    "    lda_model = LinearDiscriminantAnalysis()\n",
    "    lda_model.fit(X_train, y_train)\n",
    "    \n",
    "    \n",
    "    y_pred_lda = lda_model.predict(X_test)\n",
    "    y_prob_lda = lda_model.predict_proba(X_test)[:, 1]\n",
    "    \n",
    "    accuracy_lda = accuracy_score(y_test, y_pred_lda)\n",
    "    precision_lda = precision_score(y_test, y_pred_lda)\n",
    "    recall_lda = recall_score(y_test, y_pred_lda)\n",
    "    f1_lda = f1_score(y_test, y_pred_lda)\n",
    "    roc_auc_lda = roc_auc_score(y_test, y_prob_lda)\n",
    "    conf_matrix_lda = confusion_matrix(y_test, y_pred_lda)\n",
    "    \n",
    "    print(f\"LDA Performance on {dataset_name}:\")\n",
    "    print(f\"Accuracy: {accuracy_lda:.2f}\")\n",
    "    print(f\"Precision: {precision_lda:.2f}\")\n",
    "    print(f\"Recall: {recall_lda:.2f}\")\n",
    "    print(f\"F1 Score: {f1_lda:.2f}\")\n",
    "    print(f\"ROC AUC Score: {roc_auc_lda:.2f}\")\n",
    "    print(f\"{dataset_name} Confusion Matrix:\")\n",
    "    print(conf_matrix_lda)\n",
    "    print(\"\\n\")\n",
    "\n",
    "#loading and preprocessing the additional datasets\n",
    "X_additional_1, y_additional_1 = load_and_preprocess_additional(file_path_additional_1, column_name_1, threshold_1)\n",
    "X_additional_2, y_additional_2 = load_and_preprocess_additional(file_path_additional_2, column_name_2, threshold_2)\n",
    "\n",
    "#balancing, splitting, scaling, and reshaping the additional data\n",
    "smote = SMOTE(random_state=42)\n",
    "X_res_additional_1, y_res_additional_1 = smote.fit_resample(X_additional_1, y_additional_1)\n",
    "X_res_additional_2, y_res_additional_2 = smote.fit_resample(X_additional_2, y_additional_2)\n",
    "\n",
    "X_train_additional_1, X_test_additional_1, y_train_additional_1, y_test_additional_1 = train_test_split(X_res_additional_1, y_res_additional_1, test_size=0.2, random_state=42)\n",
    "X_train_additional_2, X_test_additional_2, y_train_additional_2, y_test_additional_2 = train_test_split(X_res_additional_2, y_res_additional_2, test_size=0.2, random_state=42)\n",
    "\n",
    "scaler = StandardScaler()\n",
    "X_train_scaled_additional_1 = scaler.fit_transform(X_train_additional_1)\n",
    "X_test_scaled_additional_1 = scaler.transform(X_test_additional_1)\n",
    "X_train_scaled_additional_2 = scaler.fit_transform(X_train_additional_2)\n",
    "X_test_scaled_additional_2 = scaler.transform(X_test_additional_2)\n",
    "\n",
    "#evaluating the LDA model on both additional datasets, before running above train function\n",
    "evaluate_lda_on_additional_dataset(X_train_scaled_additional_1, X_test_scaled_additional_1, y_train_additional_1, y_test_additional_1, \"Additional Dataset 1\")\n",
    "evaluate_lda_on_additional_dataset(X_train_scaled_additional_2, X_test_scaled_additional_2, y_train_additional_2, y_test_additional_2, \"Additional Dataset 2\")"
   ]
  },
  {
   "cell_type": "code",
   "execution_count": 66,
   "id": "8d53597e",
   "metadata": {},
   "outputs": [
    {
     "name": "stdout",
     "output_type": "stream",
     "text": [
      "SVM Performance on Additional Dataset 1:\n",
      "Accuracy: 0.49\n",
      "Precision: 0.51\n",
      "Recall: 0.53\n",
      "F1 Score: 0.52\n",
      "ROC AUC Score: 0.51\n",
      "Additional Dataset 1 Confusion Matrix:\n",
      "[[145 180]\n",
      " [168 187]]\n",
      "\n",
      "\n",
      "SVM Performance on Additional Dataset 2:\n",
      "Accuracy: 0.56\n",
      "Precision: 0.55\n",
      "Recall: 0.78\n",
      "F1 Score: 0.65\n",
      "ROC AUC Score: 0.55\n",
      "Additional Dataset 2 Confusion Matrix:\n",
      "[[115 239]\n",
      " [ 84 295]]\n",
      "\n",
      "\n"
     ]
    }
   ],
   "source": [
    "#function for training SVM model on the additional datasets\n",
    "def evaluate_svm_on_additional_dataset(X_train, X_test, y_train, y_test, dataset_name):\n",
    "    #same as above, but re-training on additional data\n",
    "    svm_model = SVC(probability=True, random_state=42)\n",
    "    svm_model.fit(X_train, y_train)\n",
    "    \n",
    "    \n",
    "    y_pred_svm = svm_model.predict(X_test)\n",
    "    y_prob_svm = svm_model.predict_proba(X_test)[:, 1]\n",
    "    \n",
    "    \n",
    "    accuracy_svm = accuracy_score(y_test, y_pred_svm)\n",
    "    precision_svm = precision_score(y_test, y_pred_svm)\n",
    "    recall_svm = recall_score(y_test, y_pred_svm)\n",
    "    f1_svm = f1_score(y_test, y_pred_svm)\n",
    "    roc_auc_svm = roc_auc_score(y_test, y_prob_svm)\n",
    "    conf_matrix_svm = confusion_matrix(y_test, y_pred_svm)\n",
    "    \n",
    "    \n",
    "    print(f\"SVM Performance on {dataset_name}:\")\n",
    "    print(f\"Accuracy: {accuracy_svm:.2f}\")\n",
    "    print(f\"Precision: {precision_svm:.2f}\")\n",
    "    print(f\"Recall: {recall_svm:.2f}\")\n",
    "    print(f\"F1 Score: {f1_svm:.2f}\")\n",
    "    print(f\"ROC AUC Score: {roc_auc_svm:.2f}\")\n",
    "    print(f\"{dataset_name} Confusion Matrix:\")\n",
    "    print(conf_matrix_svm)\n",
    "    print(\"\\n\")\n",
    "\n",
    "#loading and preprocessing the additional datasets\n",
    "X_additional_1, y_additional_1 = load_and_preprocess_additional(file_path_additional_1, column_name_1, threshold_1)\n",
    "X_additional_2, y_additional_2 = load_and_preprocess_additional(file_path_additional_2, column_name_2, threshold_2)\n",
    "\n",
    "#balancing, splitting, scaling, and reshaping the additional data\n",
    "smote = SMOTE(random_state=42)\n",
    "X_res_additional_1, y_res_additional_1 = smote.fit_resample(X_additional_1, y_additional_1)\n",
    "X_res_additional_2, y_res_additional_2 = smote.fit_resample(X_additional_2, y_additional_2)\n",
    "\n",
    "X_train_additional_1, X_test_additional_1, y_train_additional_1, y_test_additional_1 = train_test_split(X_res_additional_1, y_res_additional_1, test_size=0.2, random_state=42)\n",
    "X_train_additional_2, X_test_additional_2, y_train_additional_2, y_test_additional_2 = train_test_split(X_res_additional_2, y_res_additional_2, test_size=0.2, random_state=42)\n",
    "\n",
    "scaler = StandardScaler()\n",
    "X_train_scaled_additional_1 = scaler.fit_transform(X_train_additional_1)\n",
    "X_test_scaled_additional_1 = scaler.transform(X_test_additional_1)\n",
    "X_train_scaled_additional_2 = scaler.fit_transform(X_train_additional_2)\n",
    "X_test_scaled_additional_2 = scaler.transform(X_test_additional_2)\n",
    "\n",
    "#evaluating the SVM model on both additional datasets, before running above train function\n",
    "evaluate_svm_on_additional_dataset(X_train_scaled_additional_1, X_test_scaled_additional_1, y_train_additional_1, y_test_additional_1, \"Additional Dataset 1\")\n",
    "evaluate_svm_on_additional_dataset(X_train_scaled_additional_2, X_test_scaled_additional_2, y_train_additional_2, y_test_additional_2, \"Additional Dataset 2\")\n"
   ]
  },
  {
   "cell_type": "code",
   "execution_count": 67,
   "id": "d53e1574",
   "metadata": {},
   "outputs": [
    {
     "name": "stdout",
     "output_type": "stream",
     "text": [
      "Naive Bayes Performance on Additional Dataset 1:\n",
      "Accuracy: 0.49\n",
      "Precision: 0.51\n",
      "Recall: 0.53\n",
      "F1 Score: 0.52\n",
      "ROC AUC Score: 0.50\n",
      "Additional Dataset 1 Confusion Matrix:\n",
      "[[145 180]\n",
      " [168 187]]\n",
      "\n",
      "\n",
      "Naive Bayes Performance on Additional Dataset 2:\n",
      "Accuracy: 0.54\n",
      "Precision: 0.55\n",
      "Recall: 0.65\n",
      "F1 Score: 0.59\n",
      "ROC AUC Score: 0.57\n",
      "Additional Dataset 2 Confusion Matrix:\n",
      "[[150 204]\n",
      " [134 245]]\n",
      "\n",
      "\n"
     ]
    }
   ],
   "source": [
    "#function for training NB model on the additional datasets\n",
    "def evaluate_nb_on_additional_dataset(X_train, X_test, y_train, y_test, dataset_name):\n",
    "    #same as above, but re-training on additional data\n",
    "    nb_model = GaussianNB()\n",
    "    nb_model.fit(X_train, y_train)\n",
    "\n",
    "  \n",
    "    y_pred_nb = nb_model.predict(X_test)\n",
    "    y_prob_nb = nb_model.predict_proba(X_test)[:, 1]\n",
    "\n",
    "    accuracy_nb = accuracy_score(y_test, y_pred_nb)\n",
    "    precision_nb = precision_score(y_test, y_pred_nb)\n",
    "    recall_nb = recall_score(y_test, y_pred_nb)\n",
    "    f1_nb = f1_score(y_test, y_pred_nb)\n",
    "    roc_auc_nb = roc_auc_score(y_test, y_prob_nb)\n",
    "    conf_matrix_nb = confusion_matrix(y_test, y_pred_nb)\n",
    "\n",
    "    \n",
    "    print(f\"Naive Bayes Performance on {dataset_name}:\")\n",
    "    print(f\"Accuracy: {accuracy_nb:.2f}\")\n",
    "    print(f\"Precision: {precision_nb:.2f}\")\n",
    "    print(f\"Recall: {recall_nb:.2f}\")\n",
    "    print(f\"F1 Score: {f1_nb:.2f}\")\n",
    "    print(f\"ROC AUC Score: {roc_auc_nb:.2f}\")\n",
    "    print(f\"{dataset_name} Confusion Matrix:\")\n",
    "    print(conf_matrix_nb)\n",
    "    print(\"\\n\")\n",
    "\n",
    "#loading and preprocessing the additional datasets\n",
    "X_additional_1, y_additional_1 = load_and_preprocess_additional(file_path_additional_1, column_name_1, threshold_1)\n",
    "X_additional_2, y_additional_2 = load_and_preprocess_additional(file_path_additional_2, column_name_2, threshold_2)\n",
    "\n",
    "#balancing, splitting, scaling, and reshaping the additional data\n",
    "smote = SMOTE(random_state=42)\n",
    "X_res_additional_1, y_res_additional_1 = smote.fit_resample(X_additional_1, y_additional_1)\n",
    "X_res_additional_2, y_res_additional_2 = smote.fit_resample(X_additional_2, y_additional_2)\n",
    "\n",
    "X_train_additional_1, X_test_additional_1, y_train_additional_1, y_test_additional_1 = train_test_split(X_res_additional_1, y_res_additional_1, test_size=0.2, random_state=42)\n",
    "X_train_additional_2, X_test_additional_2, y_train_additional_2, y_test_additional_2 = train_test_split(X_res_additional_2, y_res_additional_2, test_size=0.2, random_state=42)\n",
    "\n",
    "scaler = StandardScaler()\n",
    "X_train_scaled_additional_1 = scaler.fit_transform(X_train_additional_1)\n",
    "X_test_scaled_additional_1 = scaler.transform(X_test_additional_1)\n",
    "X_train_scaled_additional_2 = scaler.fit_transform(X_train_additional_2)\n",
    "X_test_scaled_additional_2 = scaler.transform(X_test_additional_2)\n",
    "\n",
    "#evaluating the NB model on both additional datasets, before running above train function\n",
    "evaluate_nb_on_additional_dataset(X_train_scaled_additional_1, X_test_scaled_additional_1, y_train_additional_1, y_test_additional_1, \"Additional Dataset 1\")\n",
    "evaluate_nb_on_additional_dataset(X_train_scaled_additional_2, X_test_scaled_additional_2, y_train_additional_2, y_test_additional_2, \"Additional Dataset 2\")\n"
   ]
  },
  {
   "cell_type": "markdown",
   "id": "596c4a6d",
   "metadata": {},
   "source": [
    "Through this evaluation, I can tell that:\n",
    "\n",
    "1. My hybrid model’s accuracy of 0.93, 0.51, and 0.55, is the highest among all the other models, demonstrating its ability to correctly classify most instances. \n",
    "\n",
    "2. My hybrid model’s precision of 0.93, 0.53, 0.55, falls the lowest among all the other models, although just slightly. However, when \n",
    "\n",
    "3. My hybrid model’s recall of 0.93, 0.69, and 0.71, is the highest among the other models, showing that it’s the most effective in capturing actual positives. Combined with its previous precision score, still makes it the best predictor.\n",
    "\n",
    "4. My hybrid model’s f1 score of 0.93, 0.60, and 0.62, is the highest among the other models, indicating its robustness and reliability in analyzing datasets compared to the more variable performance of the other models.\n",
    "\n",
    "5. My hybrid model’s ROC AUC score of 0.98, 0.51, and 0.55, is balanced among the other models, as its original dataset score is the highest, but the additional datasets score fell behind the others. This showcases its overall reliability to distinguish between true positive and negative cases.\n",
    "\n",
    "6. My hybrid model’s confusion matrices of [399,52] [17,444], [108,217] [110,245], and [136,218] [111,268], are the highest among the other models. This indicates that my model’s analysis is accurate, with minimal errors in false positives and negatives.\n"
   ]
  },
  {
   "cell_type": "markdown",
   "id": "8744b9ae",
   "metadata": {},
   "source": [
    "# Part 5: Prediction testing"
   ]
  },
  {
   "cell_type": "markdown",
   "id": "3ddbf1f1",
   "metadata": {},
   "source": [
    "For this final part of the project, I shall be using the best model concluded from the Validation testing to conduct a prediction test on the original wildfire dataset (cumulative area burnt by wildfires). which from the results from the previous Part, being my hybrid model\n",
    "\n",
    "The process will involve using back the loading and pre-processing function to handle the dataset, and setting a binary threshold firstly"
   ]
  },
  {
   "cell_type": "code",
   "execution_count": 68,
   "id": "688e1cb3",
   "metadata": {},
   "outputs": [],
   "source": [
    "#bringing back function to load and preprocess the original dataset for prediction\n",
    "def load_and_preprocess_for_prediction(file_path):\n",
    "    data = pd.read_csv(file_path)\n",
    "    data.columns = [\n",
    "        'Entity', 'Code', 'Year',\n",
    "        'Burnt_2024', 'Burnt_2023', 'Burnt_2022', 'Burnt_2021',\n",
    "        'Burnt_2020', 'Burnt_2019', 'Burnt_2018', 'Burnt_2017',\n",
    "        'Burnt_2016', 'Burnt_2015', 'Burnt_2014', 'Burnt_2013', 'Burnt_2012'\n",
    "    ]\n",
    "    data.dropna(inplace=True)\n",
    "    threshold = 1000\n",
    "    data['Target'] = data['Burnt_2024'].apply(lambda x: 1 if x > threshold else 0)\n",
    "    features = [\n",
    "        'Burnt_2023', 'Burnt_2022', 'Burnt_2021', 'Burnt_2020',\n",
    "        'Burnt_2019', 'Burnt_2018', 'Burnt_2017', 'Burnt_2016',\n",
    "        'Burnt_2015', 'Burnt_2014', 'Burnt_2013', 'Burnt_2012'\n",
    "    ]\n",
    "    X = data[features].values\n",
    "    y = data['Target'].values\n",
    "    return data, X, y\n",
    "\n",
    "file_path = r'C:\\Users\\Darre\\schoolstuff\\fp tings\\datasets\\1- cumulative-area-burnt-by-wildfires-by-week.csv'\n",
    "data, X, y = load_and_preprocess_for_prediction(file_path)"
   ]
  },
  {
   "cell_type": "markdown",
   "id": "b1bba3a6",
   "metadata": {},
   "source": [
    "Then, additional things like balancing the dataset, scaling, and reshaping the data using SMOTE and Standardscalar, to feed the data better for the LSTM extraction of my hybrid model"
   ]
  },
  {
   "cell_type": "code",
   "execution_count": 69,
   "id": "528e98fc",
   "metadata": {},
   "outputs": [],
   "source": [
    "#balancing the dataset using SMOTE\n",
    "smote = SMOTE(random_state=42)\n",
    "X_res, y_res = smote.fit_resample(X, y)"
   ]
  },
  {
   "cell_type": "code",
   "execution_count": 70,
   "id": "391b4720",
   "metadata": {},
   "outputs": [],
   "source": [
    "#scaling the data for LSTM input\n",
    "scaler = StandardScaler()\n",
    "X_scaled = scaler.fit_transform(X_res)"
   ]
  },
  {
   "cell_type": "code",
   "execution_count": 71,
   "id": "36543493",
   "metadata": {},
   "outputs": [],
   "source": [
    "#reshaping data for LSTM model input\n",
    "X_scaled_reshaped = X_scaled.reshape((X_scaled.shape[0], X_scaled.shape[1], 1))"
   ]
  },
  {
   "cell_type": "markdown",
   "id": "bea80039",
   "metadata": {},
   "source": [
    "And now, using the most recent data columns from the dataset after cleaning and processing, to conduct the prediction for the next 3 following years, being 2025, 2026, and 2027. This recent data will be extracted, reshaped, and transformed to be used."
   ]
  },
  {
   "cell_type": "code",
   "execution_count": 72,
   "id": "6a5fd244",
   "metadata": {},
   "outputs": [],
   "source": [
    "#using the most recent data for prediction of future years\n",
    "recent_data = X[-1].reshape(1, -1)  #reshape to ensure the input shape is correct for the scaler\n",
    "recent_data_scaled = scaler.transform(recent_data)\n",
    "recent_data_reshaped = recent_data_scaled.reshape((recent_data_scaled.shape[0], recent_data_scaled.shape[1], 1))"
   ]
  },
  {
   "cell_type": "markdown",
   "id": "4153dd2f",
   "metadata": {},
   "source": [
    "Using for loop, the future years predictions shall be appended back into the dataset. The final results will then be outputted, as either \"above threshold\", or \"below threshold\". \n",
    "\n",
    "This is because Logistic Regression is a classification algorithm and its used to predict the probability of a binary outcome to predict values to a range between 0 and 1, which would mean either above or below the threshold."
   ]
  },
  {
   "cell_type": "code",
   "execution_count": 73,
   "id": "4cfaa814",
   "metadata": {},
   "outputs": [
    {
     "name": "stdout",
     "output_type": "stream",
     "text": [
      "1/1 [==============================] - 0s 131ms/step\n"
     ]
    }
   ],
   "source": [
    "#using trained hybrid mode, to predict results for following years (2025,2026,2027)\n",
    "lstm_features_future = model.predict(recent_data_reshaped)\n",
    "future_years = [2025, 2026, 2027]\n",
    "predictions = []\n",
    "\n",
    "for i in range(len(future_years)):\n",
    "    prediction = log_reg.predict(lstm_features_future) \n",
    "    predictions.append(prediction[0])"
   ]
  },
  {
   "cell_type": "code",
   "execution_count": 74,
   "id": "98927eec",
   "metadata": {},
   "outputs": [
    {
     "name": "stdout",
     "output_type": "stream",
     "text": [
      "Predictions for future years:\n",
      "Burnt area prediction for 2025: Above Threshold\n",
      "Burnt area prediction for 2026: Above Threshold\n",
      "Burnt area prediction for 2027: Above Threshold\n"
     ]
    }
   ],
   "source": [
    "#outputting the predictions (As binary threshold)\n",
    "print(\"Predictions for future years:\")\n",
    "for year, pred in zip(future_years, predictions):\n",
    "    print(f\"Burnt area prediction for {year}: {'Above Threshold' if pred == 1 else 'Below Threshold'}\")"
   ]
  },
  {
   "cell_type": "markdown",
   "id": "10170c4f",
   "metadata": {},
   "source": [
    "The results shown have pointed out that the predictions are all above threshold, although not the specific number, but proves that the predictions are accurate and within range"
   ]
  },
  {
   "cell_type": "code",
   "execution_count": null,
   "id": "6b366c89",
   "metadata": {},
   "outputs": [],
   "source": []
  }
 ],
 "metadata": {
  "kernelspec": {
   "display_name": "Python 3 (ipykernel)",
   "language": "python",
   "name": "python3"
  },
  "language_info": {
   "codemirror_mode": {
    "name": "ipython",
    "version": 3
   },
   "file_extension": ".py",
   "mimetype": "text/x-python",
   "name": "python",
   "nbconvert_exporter": "python",
   "pygments_lexer": "ipython3",
   "version": "3.9.19"
  },
  "widgets": {
   "application/vnd.jupyter.widget-state+json": {
    "state": {},
    "version_major": 2,
    "version_minor": 0
   }
  }
 },
 "nbformat": 4,
 "nbformat_minor": 5
}
